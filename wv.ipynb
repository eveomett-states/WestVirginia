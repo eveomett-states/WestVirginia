{
 "cells": [
  {
   "cell_type": "code",
   "execution_count": 1,
   "metadata": {},
   "outputs": [],
   "source": [
    "import pandas as pd\n",
    "import geopandas as gpd\n",
    "import maup\n",
    "import time\n",
    "from maup import smart_repair\n",
    "from gerrychain import Graph\n",
    "\n",
    "maup.progress.enabled = True"
   ]
  },
  {
   "cell_type": "code",
   "execution_count": 2,
   "metadata": {},
   "outputs": [],
   "source": [
    "import warnings\n",
    "warnings.filterwarnings(\"ignore\")"
   ]
  },
  {
   "cell_type": "code",
   "execution_count": 3,
   "metadata": {},
   "outputs": [],
   "source": [
    "# state = West Virginia\n",
    "state_ab = \"wv\""
   ]
  },
  {
   "cell_type": "markdown",
   "metadata": {},
   "source": [
    "## Data\n",
    "1. Download all the data in directory \"wv_data\"\n",
    "2. Extract them all"
   ]
  },
  {
   "cell_type": "code",
   "execution_count": 5,
   "metadata": {},
   "outputs": [],
   "source": [
    "data_folder = state_ab + \"_data/\"\n",
    "population1_data = \"./{}{}_pl2020_b/{}_pl2020_p1_b.shp\".format(data_folder, state_ab, state_ab)\n",
    "population2_data = \"./{}{}_pl2020_b/{}_pl2020_p2_b.shp\".format(data_folder, state_ab, state_ab)\n",
    "vap_data =  \"./{}{}_pl2020_b/{}_pl2020_p4_b.shp\".format(data_folder, state_ab, state_ab)\n",
    "vest20_data = \"./{}{}_vest_20/{}_vest_20.shp\".format(data_folder, state_ab, state_ab)\n",
    "vest18_data = \"./{}{}_vest_18/{}_vest_18.shp\".format(data_folder, state_ab, state_ab)\n",
    "vest16_data = \"./{}{}_vest_16/{}_vest_16.shp\".format(data_folder, state_ab, state_ab)\n",
    "cd_data = \"./{}{}_cong_2021/consensus_congressional.shp\".format(data_folder, state_ab)\n",
    "send_data = \"./{}{}_sldu_2021/SENfinal_shp.shp\".format(data_folder, state_ab)\n",
    "hdist_data = \"./{}{}_sldl_2021/HODfinal_shp.shp\".format(data_folder, state_ab)\n",
    "county_data = \"./{}{}_pl2020_cnty/{}_pl2020_cnty.shp\".format(data_folder, state_ab, state_ab)"
   ]
  },
  {
   "cell_type": "code",
   "execution_count": 6,
   "metadata": {},
   "outputs": [],
   "source": [
    "def do_smart_repair(df, min_rook_length = None, snap_precision = 10):\n",
    "    # change it to the UTM it needs for smart_repair\n",
    "    df = df.to_crs(df.estimate_utm_crs())\n",
    "    df = smart_repair(df, min_rook_length = min_rook_length, snap_precision = snap_precision)\n",
    "\n",
    "    if maup.doctor(df) == False:\n",
    "        raise Exception('maup.doctor failed')\n",
    "    \n",
    "    return df"
   ]
  },
  {
   "cell_type": "code",
   "execution_count": 7,
   "metadata": {},
   "outputs": [],
   "source": [
    "def add_district(dist_df, dist_name, election_df, col_name):\n",
    "    election_df = election_df.to_crs(election_df.estimate_utm_crs())\n",
    "    dist_df = dist_df.to_crs(dist_df.estimate_utm_crs())\n",
    "    # check if it needs to be smart_repair\n",
    "    if maup.doctor(dist_df) != True:\n",
    "        dist_df = do_smart_repair(dist_df)\n",
    "\n",
    "    # assign the pricincts\n",
    "    precincts_to_district_assignment = maup.assign(election_df.geometry, dist_df.geometry)\n",
    "    election_df[dist_name] = precincts_to_district_assignment\n",
    "    for precinct_index in range(len(election_df)):\n",
    "        election_df.at[precinct_index, dist_name] = dist_df.at[election_df.at[precinct_index, dist_name], col_name]\n",
    "\n",
    "    return election_df"
   ]
  },
  {
   "cell_type": "code",
   "execution_count": 8,
   "metadata": {},
   "outputs": [],
   "source": [
    "def rename(original, year):\n",
    "    party = original[6]\n",
    "    if party == 'R' or party == 'D':\n",
    "        return original[3:6] + year + original[6]\n",
    "    else:\n",
    "        return original[3:6] + year + 'O'"
   ]
  },
  {
   "cell_type": "code",
   "execution_count": 9,
   "metadata": {},
   "outputs": [],
   "source": [
    "pop_col = ['TOTPOP', 'HISP', 'NH_WHITE', 'NH_BLACK', 'NH_AMIN', 'NH_ASIAN', 'NH_NHPI', 'NH_OTHER', 'NH_2MORE', 'H_WHITE', 'H_BLACK', 'H_AMIN', 'H_ASIAN', 'H_NHPI', 'H_OTHER', 'H_2MORE', 'VAP', 'HVAP', 'WVAP', 'BVAP', 'AMINVAP', 'ASIANVAP', 'NHPIVAP', 'OTHERVAP', '2MOREVAP']"
   ]
  },
  {
   "cell_type": "code",
   "execution_count": 10,
   "metadata": {},
   "outputs": [],
   "source": [
    "def check_population(population, df):\n",
    "    pop_check = pd.DataFrame({\n",
    "        'pop_col': pop_col,\n",
    "        'population_df': population[pop_col].sum(), \n",
    "        'vest_base': df[pop_col].sum(),\n",
    "        'equal': [x == y for x, y in zip(population[pop_col].sum(), df[pop_col].sum())]\n",
    "    })\n",
    "    if pop_check['equal'].mean() < 1:\n",
    "        print(pop_check)\n",
    "        raise Exception(\"population doesn't agree\")\n",
    "\n",
    "    else:\n",
    "        print(\"population agrees\")"
   ]
  },
  {
   "cell_type": "code",
   "execution_count": 11,
   "metadata": {},
   "outputs": [],
   "source": [
    "def add_vest(vest, df, year, population, start_col, snap_precision = 10):\n",
    "    df = df.to_crs(df.estimate_utm_crs())\n",
    "    vest = vest.to_crs(vest.estimate_utm_crs())\n",
    "    population = population.to_crs(population.estimate_utm_crs())\n",
    "    df_crs = df.crs\n",
    "    vest_crs = vest.crs\n",
    "    \n",
    "     # check if it needs to be smart_repair\n",
    "    if maup.doctor(vest) != True:\n",
    "        vest = do_smart_repair(vest, snap_precision = snap_precision)\n",
    "    \n",
    "    # rename the columns\n",
    "    original_col = vest.columns[start_col:-1]\n",
    "    new_col = [rename(i, year) for i in original_col]\n",
    "    rename_dict = dict(zip(original_col, new_col))\n",
    "    vest = vest.rename(columns=rename_dict)\n",
    "    vest = vest.groupby(level=0, axis=1).sum() # combine all the other party's vote into columns with sufix \"O\"\n",
    "    col_name = list(set(new_col))\n",
    "    col_name.sort()\n",
    "    \n",
    "    # make the blocks from precincts by weight\n",
    "    vest = gpd.GeoDataFrame(vest, crs=vest_crs)\n",
    "    election_in_block = population[[\"VAP\", 'geometry']] # population_df is in block scale\n",
    "    blocks_to_precincts_assignment = maup.assign(election_in_block.geometry, vest.geometry)\n",
    "    weights = election_in_block[\"VAP\"] / blocks_to_precincts_assignment.map(election_in_block[\"VAP\"].groupby(blocks_to_precincts_assignment).sum())\n",
    "    weights = weights.fillna(0)\n",
    "    prorated = maup.prorate(blocks_to_precincts_assignment, vest[col_name], weights)\n",
    "    election_in_block[col_name] = prorated\n",
    "    \n",
    "    # assign blocks to precincts\n",
    "    election_in_block = gpd.GeoDataFrame(election_in_block, crs=vest_crs)\n",
    "    df = gpd.GeoDataFrame(df, crs=df_crs)\n",
    "    block_to_pricinct_assginment = maup.assign(election_in_block.geometry, df.geometry)\n",
    "    df[col_name] = election_in_block[col_name].groupby(block_to_pricinct_assginment).sum()\n",
    "    df = df.groupby(level=0, axis=1).sum()\n",
    "    df = gpd.GeoDataFrame(df, crs = df_crs)\n",
    "    # check if population agrees\n",
    "    check_population(population, df)\n",
    "    \n",
    "    return df"
   ]
  },
  {
   "cell_type": "code",
   "execution_count": 12,
   "metadata": {},
   "outputs": [],
   "source": [
    "def add_vest_base(vest, start_col, year, county = None, min_rook_length = None, snap_precision = 10):\n",
    "    vest = vest.to_crs(vest.estimate_utm_crs())\n",
    "    vest_crs = vest.crs\n",
    "    original_col = vest.columns[start_col:-1]\n",
    "    new_col = [rename(i, year) for i in original_col]\n",
    "    rename_dict = dict(zip(original_col, new_col))\n",
    "    vest = vest.rename(columns=rename_dict)\n",
    "    vest = vest.groupby(level=0, axis=1).sum()\n",
    "    vest = gpd.GeoDataFrame(vest, crs=vest_crs)\n",
    "\n",
    "    if county is not None:\n",
    "        county = county.to_crs(county.estimate_utm_crs())\n",
    "        vest = smart_repair(vest, nest_within_regions = county, min_rook_length = min_rook_length, snap_precision = snap_precision) # nest precincts within counties\n",
    "\n",
    "    else:\n",
    "        vest = smart_repair(vest, min_rook_length = min_rook_length, snap_precision = snap_precision) \n",
    "    \n",
    "    return vest"
   ]
  },
  {
   "cell_type": "code",
   "execution_count": 13,
   "metadata": {},
   "outputs": [],
   "source": [
    "def check_small_boundary_lengths(vest_base):\n",
    "    import copy\n",
    "    vest_base = vest_base.to_crs(vest_base.estimate_utm_crs())\n",
    "\n",
    "    boundaries = copy.deepcopy(vest_base)\n",
    "    boundaries[\"geometry\"] = boundaries.geometry.boundary  # get boundaries\n",
    "    neighbors = gpd.sjoin(boundaries, vest_base, predicate=\"intersects\") # find boundaries that intersect\n",
    "    neighbors = neighbors[neighbors.index != neighbors.index_right] # remove boundaries of a region with itself\n",
    "\n",
    "    # compute shared border length using intersection\n",
    "    borders = list(neighbors.apply(\n",
    "        lambda row: row.geometry.intersection(vest_base.loc[row.index_right, \"geometry\"]).length, axis=1\n",
    "    ))\n",
    "\n",
    "    borders.sort()\n",
    "    \n",
    "    return borders"
   ]
  },
  {
   "cell_type": "markdown",
   "metadata": {},
   "source": [
    "### Read the census data"
   ]
  },
  {
   "cell_type": "code",
   "execution_count": 15,
   "metadata": {},
   "outputs": [],
   "source": [
    "population1_df = gpd.read_file(population1_data)\n",
    "population2_df = gpd.read_file(population2_data)\n",
    "vap_df = gpd.read_file(vap_data)\n",
    "county_df = gpd.read_file(county_data)"
   ]
  },
  {
   "cell_type": "code",
   "execution_count": 16,
   "metadata": {},
   "outputs": [],
   "source": [
    "population2_df = population2_df.drop(columns=['SUMLEV', 'LOGRECNO', 'GEOID', 'COUNTY', 'geometry'])\n",
    "vap_df = vap_df.drop(columns=['SUMLEV', 'LOGRECNO', 'GEOID', 'COUNTY', 'geometry'])"
   ]
  },
  {
   "cell_type": "code",
   "execution_count": 17,
   "metadata": {},
   "outputs": [],
   "source": [
    "population_df = pd.merge(population1_df, population2_df, on='GEOID20')\n",
    "population_df = pd.merge(population_df, vap_df, on='GEOID20')\n",
    "population_df = population_df.to_crs(population_df.estimate_utm_crs())"
   ]
  },
  {
   "cell_type": "code",
   "execution_count": 18,
   "metadata": {},
   "outputs": [
    {
     "name": "stderr",
     "output_type": "stream",
     "text": [
      "100%|███████████████████████████████████| 72558/72558 [00:35<00:00, 2048.19it/s]\n"
     ]
    },
    {
     "data": {
      "text/plain": [
       "True"
      ]
     },
     "execution_count": 18,
     "metadata": {},
     "output_type": "execute_result"
    }
   ],
   "source": [
    "maup.doctor(population_df)"
   ]
  },
  {
   "cell_type": "code",
   "execution_count": 19,
   "metadata": {},
   "outputs": [],
   "source": [
    "population_df['H_WHITE'] = population_df.apply(lambda t: t['P0010003'] - t['P0020005'], 1)\n",
    "population_df['H_BLACK'] = population_df.apply(lambda t: t['P0010004'] - t['P0020006'], 1)\n",
    "population_df['H_AMIN'] = population_df.apply(lambda t: t['P0010005'] - t['P0020007'], 1)\n",
    "population_df['H_ASIAN'] = population_df.apply(lambda t: t['P0010006'] - t['P0020008'], 1)\n",
    "population_df['H_NHPI'] = population_df.apply(lambda t: t['P0010007'] - t['P0020009'], 1)\n",
    "population_df['H_OTHER'] = population_df.apply(lambda t: t['P0010008'] - t['P0020010'], 1)\n",
    "population_df['H_2MORE'] = population_df.apply(lambda t: t['P0010009'] - t['P0020011'], 1)"
   ]
  },
  {
   "cell_type": "code",
   "execution_count": 20,
   "metadata": {},
   "outputs": [],
   "source": [
    "rename_dict = {'P0020001': 'TOTPOP', 'P0020002': 'HISP', 'P0020005': 'NH_WHITE', 'P0020006': 'NH_BLACK', 'P0020007': 'NH_AMIN',\n",
    "                    'P0020008': 'NH_ASIAN', 'P0020009': 'NH_NHPI', 'P0020010': 'NH_OTHER', 'P0020011': 'NH_2MORE',\n",
    "                    'P0040001': 'VAP', 'P0040002': 'HVAP', 'P0040005': 'WVAP', 'P0040006': 'BVAP', 'P0040007': 'AMINVAP',\n",
    "                                        'P0040008': 'ASIANVAP', 'P0040009': 'NHPIVAP', 'P0040010': 'OTHERVAP', 'P0040011': '2MOREVAP'}"
   ]
  },
  {
   "cell_type": "code",
   "execution_count": 21,
   "metadata": {},
   "outputs": [],
   "source": [
    "population_df.rename(columns=rename_dict, inplace = True)"
   ]
  },
  {
   "cell_type": "code",
   "execution_count": 22,
   "metadata": {},
   "outputs": [
    {
     "name": "stderr",
     "output_type": "stream",
     "text": [
      "100%|██████████████████████████████████████████| 55/55 [00:00<00:00, 335.73it/s]\n"
     ]
    },
    {
     "data": {
      "text/plain": [
       "True"
      ]
     },
     "execution_count": 22,
     "metadata": {},
     "output_type": "execute_result"
    }
   ],
   "source": [
    "county_df = county_df.to_crs(county_df.estimate_utm_crs())\n",
    "maup.doctor(county_df)"
   ]
  },
  {
   "cell_type": "markdown",
   "metadata": {},
   "source": [
    "## Read the vest 20 data\n",
    "\n",
    "Now using it as a \"base pricinct\""
   ]
  },
  {
   "cell_type": "markdown",
   "metadata": {},
   "source": [
    "## Check if vest20 can be used as base"
   ]
  },
  {
   "cell_type": "code",
   "execution_count": 25,
   "metadata": {},
   "outputs": [],
   "source": [
    "vest20 = gpd.read_file(vest20_data)"
   ]
  },
  {
   "cell_type": "code",
   "execution_count": 26,
   "metadata": {},
   "outputs": [
    {
     "data": {
      "text/plain": [
       "Index(['STATEFP', 'COUNTYFP', 'VTDST', 'NAME', 'NAMELSAD', 'G20PRERTRU',\n",
       "       'G20PREDBID', 'G20PRELJOR', 'G20PREMHAW', 'G20USSRCAP', 'G20USSDSWE',\n",
       "       'G20USSLMOR', 'G20GOVRJUS', 'G20GOVDSAL', 'G20GOVLKOL', 'G20GOVMLUT',\n",
       "       'G20SOSRWAR', 'G20SOSDTEN', 'G20AUDRMCC', 'G20AUDDCLA', 'G20TRERMOO',\n",
       "       'G20TREDPER', 'G20AGRRLEO', 'G20AGRDBEA', 'G20ATGRMOR', 'G20ATGDPET',\n",
       "       'geometry'],\n",
       "      dtype='object')"
      ]
     },
     "execution_count": 26,
     "metadata": {},
     "output_type": "execute_result"
    }
   ],
   "source": [
    "vest20.columns"
   ]
  },
  {
   "cell_type": "code",
   "execution_count": 27,
   "metadata": {},
   "outputs": [],
   "source": [
    "start_col = 5\n",
    "vest_base_data = vest20\n",
    "year = '20'"
   ]
  },
  {
   "cell_type": "code",
   "execution_count": 28,
   "metadata": {},
   "outputs": [
    {
     "name": "stderr",
     "output_type": "stream",
     "text": [
      "100%|██████████████████████████████████████████| 55/55 [00:00<00:00, 343.74it/s]\n"
     ]
    },
    {
     "name": "stdout",
     "output_type": "stream",
     "text": [
      "Snapping all geometries to a grid with precision 10^( -5 ) to avoid GEOS errors.\n"
     ]
    },
    {
     "name": "stderr",
     "output_type": "stream",
     "text": [
      "100%|██████████████████████████████████████████| 55/55 [00:00<00:00, 191.98it/s]\n",
      "100%|███████████████████████████████████████████| 55/55 [00:00<00:00, 91.86it/s]\n"
     ]
    },
    {
     "name": "stdout",
     "output_type": "stream",
     "text": [
      "Identifying overlaps...\n"
     ]
    },
    {
     "name": "stderr",
     "output_type": "stream",
     "text": [
      "100%|█████████████████████████████████████| 8346/8346 [00:04<00:00, 2024.21it/s]\n"
     ]
    },
    {
     "name": "stdout",
     "output_type": "stream",
     "text": [
      "Resolving overlaps and filling gaps...\n"
     ]
    },
    {
     "name": "stderr",
     "output_type": "stream",
     "text": [
      "100%|██████████████████████████████████████████| 55/55 [00:00<00:00, 199.31it/s]\n",
      "100%|███████████████████████████████████████████| 55/55 [00:00<00:00, 85.87it/s]\n",
      "Gaps to simplify in region 0: 100%|█████████████| 67/67 [00:00<00:00, 95.65it/s]\n",
      "Gaps to fill: 0it [00:00, ?it/s]\n",
      "Gaps to simplify in region 1: 100%|█████████████| 78/78 [00:01<00:00, 64.63it/s]\n",
      "Gaps to fill in region 1: 100%|███████████████████| 1/1 [00:00<00:00, 40.39it/s]\n",
      "Gaps to simplify in region 2: 100%|██████████| 131/131 [00:00<00:00, 136.03it/s]\n",
      "Gaps to fill in region 2: 100%|███████████████████| 4/4 [00:00<00:00, 83.86it/s]\n",
      "Gaps to simplify in region 3: 100%|███████████████| 3/3 [00:00<00:00, 80.64it/s]\n",
      "Gaps to fill: 0it [00:00, ?it/s]\n",
      "Gaps to simplify in region 4: 100%|██████████████| 7/7 [00:00<00:00, 121.68it/s]\n",
      "Gaps to fill: 0it [00:00, ?it/s]\n",
      "Gaps to simplify in region 5: 100%|████████████| 58/58 [00:00<00:00, 114.39it/s]\n",
      "Gaps to fill: 0it [00:00, ?it/s]\n",
      "Gaps to simplify in region 6: 100%|█████████████| 43/43 [00:00<00:00, 89.85it/s]\n",
      "Gaps to fill: 0it [00:00, ?it/s]\n",
      "Gaps to simplify in region 7: 100%|███████████████| 1/1 [00:00<00:00, 43.49it/s]\n",
      "Gaps to fill in region 7: 100%|███████████████████| 1/1 [00:00<00:00, 45.29it/s]\n",
      "Gaps to simplify in region 8: 100%|█████████████| 54/54 [00:00<00:00, 69.31it/s]\n",
      "Gaps to fill in region 8: 100%|███████████████████| 1/1 [00:00<00:00, 53.25it/s]\n",
      "Gaps to simplify in region 9: 100%|█████████████| 74/74 [00:00<00:00, 75.46it/s]\n",
      "Gaps to fill: 0it [00:00, ?it/s]\n",
      "Gaps to simplify in region 10: 100%|██████████| 477/477 [00:16<00:00, 29.46it/s]\n",
      "Gaps to fill in region 10: 100%|██████████████████| 7/7 [00:00<00:00, 14.29it/s]\n",
      "Gaps to simplify in region 11: 100%|███████████| 71/71 [00:00<00:00, 133.05it/s]\n",
      "Gaps to fill in region 11: 100%|██████████████████| 7/7 [00:00<00:00, 75.23it/s]\n",
      "Gaps to simplify in region 12: 100%|████████████| 79/79 [00:01<00:00, 76.51it/s]\n",
      "Gaps to fill: 0it [00:00, ?it/s]\n",
      "Gaps to simplify in region 13: 100%|████████████| 52/52 [00:00<00:00, 96.17it/s]\n",
      "Gaps to fill in region 13: 100%|██████████████████| 1/1 [00:00<00:00, 30.78it/s]\n",
      "Gaps to simplify in region 14: 100%|█████████| 384/384 [00:03<00:00, 108.14it/s]\n",
      "Gaps to fill in region 14: 100%|████████████████| 10/10 [00:00<00:00, 68.74it/s]\n",
      "Gaps to simplify in region 15: 100%|██████████| 233/233 [00:06<00:00, 35.41it/s]\n",
      "Gaps to fill in region 15: 100%|██████████████████| 6/6 [00:00<00:00, 19.95it/s]\n",
      "Gaps to simplify in region 16: 100%|███████████| 54/54 [00:00<00:00, 120.52it/s]\n",
      "Gaps to fill in region 16: 100%|██████████████████| 2/2 [00:00<00:00, 51.09it/s]\n",
      "Gaps to simplify in region 17: 100%|██████████| 341/341 [00:03<00:00, 88.09it/s]\n",
      "Gaps to fill in region 17: 100%|████████████████| 10/10 [00:00<00:00, 34.88it/s]\n",
      "Gaps to simplify in region 18: 100%|████████████| 42/42 [00:00<00:00, 81.22it/s]\n",
      "Gaps to fill in region 18: 100%|██████████████████| 1/1 [00:00<00:00, 75.34it/s]\n",
      "Gaps to simplify in region 19: 100%|████████████| 64/64 [00:00<00:00, 88.76it/s]\n",
      "Gaps to fill in region 19: 100%|███████████████| 12/12 [00:00<00:00, 101.92it/s]\n",
      "Gaps to simplify in region 20: 100%|████████████| 33/33 [00:00<00:00, 95.51it/s]\n",
      "Gaps to fill: 0it [00:00, ?it/s]\n",
      "Gaps to simplify in region 21: 100%|███████████| 33/33 [00:00<00:00, 154.60it/s]\n",
      "Gaps to fill in region 21: 100%|███████████████| 13/13 [00:00<00:00, 132.37it/s]\n",
      "Gaps to simplify in region 22: 100%|█████████| 139/139 [00:01<00:00, 100.83it/s]\n",
      "Gaps to fill in region 22: 100%|██████████████████| 6/6 [00:00<00:00, 82.73it/s]\n",
      "Gaps to simplify in region 23: 100%|████████████| 80/80 [00:00<00:00, 93.13it/s]\n",
      "Gaps to fill: 0it [00:00, ?it/s]\n",
      "Gaps to simplify in region 24: 100%|███████████| 13/13 [00:00<00:00, 126.91it/s]\n",
      "Gaps to fill in region 24: 100%|██████████████████| 1/1 [00:00<00:00, 55.20it/s]\n",
      "Gaps to simplify in region 25: 100%|████████████| 42/42 [00:00<00:00, 94.38it/s]\n",
      "Gaps to fill: 0it [00:00, ?it/s]\n",
      "Gaps to simplify in region 26: 100%|██████████| 183/183 [00:01<00:00, 92.57it/s]\n",
      "Gaps to fill in region 26: 100%|████████████████| 14/14 [00:00<00:00, 84.37it/s]\n",
      "Gaps to simplify in region 27: 100%|██████████| 188/188 [00:02<00:00, 84.54it/s]\n",
      "Gaps to fill in region 27: 100%|██████████████████| 4/4 [00:00<00:00, 55.45it/s]\n",
      "Gaps to simplify: 0it [00:00, ?it/s]\n",
      "Gaps to fill: 0it [00:00, ?it/s]\n",
      "Gaps to simplify in region 29: 100%|██████████████| 3/3 [00:00<00:00, 90.12it/s]\n",
      "Gaps to fill in region 29: 100%|██████████████████| 1/1 [00:00<00:00, 45.28it/s]\n",
      "Gaps to simplify in region 30: 100%|██████████| 284/284 [00:04<00:00, 58.31it/s]\n",
      "Gaps to fill in region 30: 100%|██████████████████| 7/7 [00:00<00:00, 43.50it/s]\n",
      "Gaps to simplify in region 31: 100%|██████████| 162/162 [00:02<00:00, 69.00it/s]\n",
      "Gaps to fill in region 31: 100%|██████████████████| 3/3 [00:00<00:00, 23.39it/s]\n",
      "Gaps to simplify in region 32: 100%|███████████| 26/26 [00:00<00:00, 100.73it/s]\n",
      "Gaps to fill in region 32: 100%|█████████████████| 2/2 [00:00<00:00, 155.73it/s]\n",
      "Gaps to simplify in region 33: 100%|██████████| 126/126 [00:01<00:00, 78.60it/s]\n",
      "Gaps to fill: 0it [00:00, ?it/s]\n",
      "Gaps to simplify in region 34: 100%|███████████| 27/27 [00:00<00:00, 146.40it/s]\n",
      "Gaps to fill: 0it [00:00, ?it/s]\n",
      "Gaps to simplify in region 35: 100%|█████████████| 1/1 [00:00<00:00, 114.15it/s]\n",
      "Gaps to fill: 0it [00:00, ?it/s]\n",
      "Gaps to simplify in region 36: 100%|████████████| 54/54 [00:00<00:00, 86.78it/s]\n",
      "Gaps to fill in region 36: 100%|██████████████████| 1/1 [00:00<00:00, 24.90it/s]\n",
      "Gaps to simplify in region 37: 100%|████████████| 16/16 [00:00<00:00, 99.34it/s]\n",
      "Gaps to fill in region 37: 100%|██████████████████| 1/1 [00:00<00:00, 29.23it/s]\n",
      "Gaps to simplify in region 38: 100%|█████████████| 2/2 [00:00<00:00, 113.22it/s]\n",
      "Gaps to fill: 0it [00:00, ?it/s]\n",
      "Gaps to simplify in region 39: 100%|███████████| 31/31 [00:00<00:00, 157.61it/s]\n",
      "Gaps to fill in region 39: 100%|█████████████████| 7/7 [00:00<00:00, 137.43it/s]\n",
      "Gaps to simplify in region 40: 100%|██████████| 167/167 [00:02<00:00, 77.89it/s]\n",
      "Gaps to fill in region 40: 100%|██████████████████| 7/7 [00:00<00:00, 35.90it/s]\n",
      "Gaps to simplify in region 41: 100%|█████████████| 9/9 [00:00<00:00, 121.63it/s]\n",
      "Gaps to fill in region 41: 100%|██████████████████| 1/1 [00:00<00:00, 52.82it/s]\n",
      "Gaps to simplify in region 42: 100%|██████████| 435/435 [00:05<00:00, 74.79it/s]\n",
      "Gaps to fill in region 42: 100%|██████████████████| 8/8 [00:00<00:00, 56.22it/s]\n",
      "Gaps to simplify in region 43: 100%|████████████| 72/72 [00:01<00:00, 67.92it/s]\n",
      "Gaps to fill: 0it [00:00, ?it/s]\n",
      "Gaps to simplify in region 44: 100%|███████████| 20/20 [00:00<00:00, 104.47it/s]\n",
      "Gaps to fill: 0it [00:00, ?it/s]\n",
      "Gaps to simplify: 0it [00:00, ?it/s]\n",
      "Gaps to fill: 0it [00:00, ?it/s]\n",
      "Gaps to simplify in region 46: 100%|█████████| 118/118 [00:01<00:00, 106.85it/s]\n",
      "Gaps to fill in region 46: 100%|██████████████████| 9/9 [00:00<00:00, 68.68it/s]\n",
      "Gaps to simplify in region 47: 100%|██████████| 470/470 [00:05<00:00, 87.31it/s]\n",
      "Gaps to fill in region 47: 100%|██████████████████| 4/4 [00:00<00:00, 37.99it/s]\n",
      "Gaps to simplify in region 48: 100%|█████████| 134/134 [00:01<00:00, 100.37it/s]\n",
      "Gaps to fill: 0it [00:00, ?it/s]\n",
      "Gaps to simplify in region 49: 100%|████████████| 10/10 [00:00<00:00, 80.48it/s]\n",
      "Gaps to fill: 0it [00:00, ?it/s]\n",
      "Gaps to simplify in region 50: 100%|█████████████| 6/6 [00:00<00:00, 103.38it/s]\n",
      "Gaps to fill: 0it [00:00, ?it/s]\n",
      "Gaps to simplify in region 51: 100%|██████████| 103/103 [00:01<00:00, 69.96it/s]\n",
      "Gaps to fill in region 51: 100%|██████████████████| 1/1 [00:00<00:00, 61.55it/s]\n",
      "Gaps to simplify in region 52: 100%|██████████| 211/211 [00:05<00:00, 35.24it/s]\n",
      "Gaps to fill in region 52: 100%|████████████████| 10/10 [00:00<00:00, 52.26it/s]\n",
      "Gaps to simplify in region 53: 100%|█████████| 194/194 [00:01<00:00, 125.92it/s]\n",
      "Gaps to fill: 0it [00:00, ?it/s]\n",
      "Gaps to simplify in region 54: 100%|████████████| 46/46 [00:00<00:00, 71.64it/s]\n",
      "Gaps to fill in region 54: 100%|██████████████████| 1/1 [00:00<00:00, 32.88it/s]\n"
     ]
    }
   ],
   "source": [
    "vest_base = add_vest_base(vest_base_data, start_col, year, county = county_df)"
   ]
  },
  {
   "cell_type": "code",
   "execution_count": 29,
   "metadata": {},
   "outputs": [
    {
     "name": "stdout",
     "output_type": "stream",
     "text": [
      "[0.0, 0.0, 0.0, 0.0, 0.0, 0.0, 0.0, 0.0, 0.0, 0.0, 0.0, 0.0, 0.0, 0.0, 0.0, 0.0, 0.0, 0.0, 0.0, 0.0, 0.0, 0.0, 0.0, 0.0, 0.0, 0.0, 0.0, 0.0, 0.0, 0.0, 0.0, 0.0, 0.0, 0.0, 0.0, 0.0, 0.0, 0.0, 0.0, 0.0, 0.0, 0.0, 0.0, 0.0, 0.0, 0.0, 0.0, 0.0, 0.0, 0.0, 0.0, 0.0, 0.0, 0.0, 0.0, 0.0, 0.0, 0.0, 0.0, 0.0, 0.0, 0.0, 0.0, 0.0, 0.0, 0.0, 0.0, 0.0, 0.0, 0.0, 0.0, 0.0, 0.0, 0.0, 0.0, 0.0, 0.0, 0.0, 0.0, 0.0, 0.0, 0.0, 0.0, 0.0, 0.0, 0.0, 0.0, 0.0, 0.0, 0.0, 0.0, 0.0, 0.0, 0.0, 0.0, 0.0, 0.0, 0.0, 0.0, 0.0, 0.0, 0.0, 0.0, 0.0, 0.0, 0.0, 0.0, 0.0, 0.0, 0.0, 0.0, 0.0, 0.0, 0.0, 0.0, 0.0, 0.0, 0.0, 0.0, 0.0, 0.0, 0.0, 0.0, 0.0, 0.0, 0.0, 0.0, 0.0, 0.0, 0.0, 0.0, 0.0, 0.0, 0.0, 0.0, 0.0, 0.0, 0.0, 0.0, 0.0, 0.0, 0.0, 0.0, 0.0, 0.0, 0.0, 0.0, 0.0, 0.0, 0.0, 0.0, 0.0, 0.0, 0.0, 0.0, 0.0, 0.0, 0.0, 0.0, 0.0, 0.0, 0.0, 0.0, 0.0, 0.0, 0.0, 0.0, 0.0, 0.0, 0.0, 0.0, 0.0, 0.0, 0.0, 0.0, 0.0, 0.0, 0.0, 0.0, 0.0, 0.0, 0.0, 0.0, 0.0, 0.0, 0.0, 0.0, 0.0, 0.0, 0.0, 0.0, 0.0, 0.0, 0.0, 0.0, 0.0, 0.0, 0.0, 0.0, 0.0, 0.0, 0.0, 0.0, 0.0, 0.0, 0.0, 0.0, 0.0, 0.0, 0.0, 0.0, 0.0, 0.0, 0.0, 0.0, 0.0, 0.0, 0.0, 0.0, 0.0, 0.0, 0.0, 0.0, 0.0, 0.0, 0.0, 0.0, 0.0, 0.0, 0.0, 0.0, 0.0, 0.0, 0.0, 0.0, 0.0, 0.0, 0.0, 0.0, 0.0, 0.0, 0.0, 0.0, 0.0, 0.0, 0.0, 0.0, 0.0, 0.0, 0.0, 0.0, 0.0, 0.0, 0.0, 0.0, 0.0, 0.0, 0.0, 0.0, 0.0, 0.0, 0.0, 0.0, 0.0, 0.0, 0.0, 0.0, 0.0, 0.0, 0.0, 0.05776725989190808, 0.05776725989190808, 0.09358512875001121, 0.09358512875001121, 0.21429905832536933, 0.21429905832536933, 1.0298250579740613, 1.0298250579740613, 4.65428413776188, 4.65428413776188, 4.739809056747205, 4.739809056747205, 8.439769423500985, 8.439769423500985, 8.706368185973561, 8.706368185973561, 8.774625355289565, 8.774625355289565, 9.222878989165832, 9.222878989165832, 10.9322157941862, 10.9322157941862, 11.561123789497907, 11.561123789497907, 12.102090937724554, 12.102090937724554, 12.38266756676778, 12.38266756676778, 14.518839171943055, 14.518839171943055, 15.236345773426123, 15.236345773426123, 16.15268669913479, 16.15268669913479, 17.55695639510477, 17.55695639510477, 19.240848083436507, 19.240848083436507, 23.032116711174236, 23.032116711174236, 23.161840623228066, 23.161840623228066, 23.217850544900433, 23.217850544900433, 27.22601421224272, 27.22601421224272, 28.111066711905487, 28.111066711905487, 28.541966244449558, 28.541966244449558, 29.161336593345624, 29.161336593345624, 31.47060300759333, 31.47060300759333, 33.02290499890122, 33.022904998901225, 33.7675696078082, 33.7675696078082, 34.56125440427426, 34.56125440427426, 35.412862961680126, 35.412862961680126, 36.661079786356204, 36.66107978635621, 39.03823236938133, 39.03823236938133, 40.11824456334, 40.11824456334, 41.566457881148224, 41.566457881148224, 42.628674888974814, 42.628674888974814, 46.623506823568825, 46.62350682356883, 46.977749118072694, 46.977749118072694, 47.75061222306289, 47.75061222306289, 50.81051148084528, 50.81051148084528, 51.85218508137593, 51.85218508137593, 52.917769262139075, 52.917769262139075, 54.30402774763864, 54.30402774763864, 54.80291915528443, 54.80291915528443, 55.478249355387916, 55.47824935538792, 56.890791979939806, 56.890791979939806, 57.098028713614205, 57.098028713614205, 57.39796601270631, 57.39796601270631, 57.88790919691798, 57.88790919691798, 58.84072877539614, 58.84072877539614, 59.148155132671, 59.148155132671, 60.45421793492939, 60.45421793492939, 61.171727124494055, 61.171727124494055, 61.441758122597584, 61.441758122597584, 64.80361197040892, 64.80361197040892, 66.02984362227359, 66.02984362227359, 66.36484670427488, 66.36484670427488, 67.15782692738605, 67.15782692738605, 67.88436667635692, 67.88436667635692, 69.46586618705955, 69.46586618705956, 69.75308867267526, 69.75308867267526, 69.93473325353841, 69.93473325353841, 70.36029462081717, 70.36029462081717, 71.85582718625294, 71.85582718625294, 72.95392505876309, 72.9539250587631, 73.51614224200598, 73.51614224200598, 73.54261417407601, 73.54261417407601, 73.5727681420182, 73.5727681420182, 76.42924166347774, 76.42924166347774, 77.23600124314807, 77.23600124314807, 80.84483402255462, 80.84483402255462, 81.8108241257142, 81.8108241257142, 84.60162756662956, 84.60162756662956, 87.90917377147164, 87.90917377147164, 88.69156943313043, 88.69156943313043, 89.81794428001368, 89.81794428001369, 92.46962911799761, 92.46962911799763, 92.62501853407358, 92.62501853407358, 93.59624416865945, 93.59624416865947, 96.09213136883615, 96.09213136883615, 97.60056723582245, 97.60056723582245, 98.42317634252866, 98.42317634252866, 98.74593807427503, 98.74593807427503, 99.09564323787168, 99.0956432378717, 99.55631559486989, 99.55631559486989, 104.26821692831344, 104.26821692831345, 104.82982422613482, 104.82982422613482, 105.67878464165787, 105.67878464165787, 108.94632449805788, 108.94632449805788, 109.72986018886385, 109.72986018886385, 112.29064763244817, 112.29064763244818, 112.73552759064889, 112.73552759064889, 113.42606677266471, 113.42606677266471, 113.8762321965718, 113.8762321965718, 114.03003356913864, 114.03003356913864, 114.36715717438493, 114.36715717438493, 115.78199901444984, 115.78199901444984, 117.45511850394647, 117.45511850394647, 118.94349958725991, 118.94349958725991, 121.21402623676464, 121.21402623676464, 121.27942729147657, 121.27942729147657, 121.3670660789461, 121.3670660789461, 123.71154639356276, 123.71154639356276, 123.80363150246042, 123.80363150246042, 124.0844978745837, 124.0844978745837, 124.19285333535026, 124.19285333535026, 124.78844536045598, 124.78844536045598, 125.56488004107823, 125.56488004107823, 128.70743915234823, 128.70743915234823, 131.11456446201828, 131.11456446201828, 132.12466913166583, 132.12466913166583, 136.29889002162733, 136.29889002162736, 136.6029027728993, 136.6029027728993, 137.25488068125026, 137.25488068125026, 137.4194287205612, 137.4194287205612, 137.542604280756, 137.542604280756, 138.04518117049034, 138.04518117049034, 141.27891268660613, 141.27891268660613, 141.48129782249111, 141.48129782249111, 142.2837722707032, 142.2837722707032, 142.30368215675298, 142.30368215675298, 142.37017760016698, 142.37017760016698, 148.29694332731583, 148.29694332731583, 151.18438585087142, 151.18438585087142, 152.30489815807354, 152.30489815807354, 160.12892525754498, 160.128925257545, 160.49523435367405, 160.49523435367408, 161.7755955413293, 161.7755955413293, 166.15792078482895, 166.15792078482895, 167.74053036369605, 167.74053036369605, 167.93815638760944, 167.93815638760944, 167.94025917157703, 167.9402591715771, 168.81321451015526, 168.8132145101553, 169.54517848921648, 169.54517848921648, 171.35608487045997, 171.35608487046002, 172.7628878304184, 172.76288783041844, 174.1808832974931, 174.1808832974931, 174.95278823995676, 174.9527882399568, 176.4953528557315, 176.49535285573154, 178.5408239649123, 178.54082396491233, 183.30816882066202, 183.30816882066205, 183.34789008794135, 183.34789008794135, 185.90590127046113, 185.90590127046113, 188.20631951303517, 188.2063195130352, 189.80061760844325, 189.80061760844325, 191.70723068303602, 191.70723068303604, 192.34128450015376, 192.34128450015376, 196.3889066692219, 196.38890666922194, 197.67037099923292, 197.67037099923294, 199.39160620681608, 199.39160620681608, 199.7979916164518, 199.7979916164518, 200.33293653436013, 200.33293653436016, 203.60001306807825, 203.60001306807825, 203.71957846102924, 203.71957846102924, 204.7345603672194, 204.7345603672194, 205.3397910909982, 205.3397910909982, 205.49117736218219, 205.4911773621822, 207.83135471495675, 207.83135471495677, 211.2304606063587, 211.23046060635872, 213.26973232460188, 213.26973232460188, 213.5998895534288, 213.59988955342885, 213.98092527062448, 213.9809252706245, 214.62311833448985, 214.62311833448985, 215.595559587281, 215.595559587281, 218.50293768714306, 218.5029376871431, 220.35627660169297, 220.35627660169297, 220.65558284713293, 220.65558284713293, 220.99672881330332, 220.99672881330332, 221.83246285660547, 221.8324628566055, 223.43647592556866, 223.43647592556866, 225.46862204844368, 225.46862204844368, 225.84135254019557, 225.8413525401956, 225.85090570720723, 225.8509057072073, 226.790011305552, 226.79001130555204, 227.69350802889264, 227.69350802889264, 228.79928534236228, 228.79928534236228, 229.53713115347333, 229.53713115347335, 229.85068305261092, 229.85068305261095, 230.23970508970294, 230.23970508970297, 231.9390894307085, 231.9390894307085, 232.59157220819398, 232.591572208194, 234.38926681262222, 234.38926681262222, 236.4320731771411, 236.43207317714115, 237.3866120709518, 237.3866120709518, 238.88775751073203, 238.88775751073203, 238.97645726824848, 238.97645726824848, 240.4917121347147, 240.4917121347147, 241.4967636478058, 241.4967636478058, 241.7349055213314, 241.73490552133143, 242.6157178568065, 242.6157178568065, 242.6675791644118, 242.66757916441185, 243.16830241023712, 243.16830241023717, 244.99126007185913, 244.99126007185913, 245.57978381081352, 245.57978381081352, 248.12177410840818, 248.1217741084082, 251.6015579137588, 251.6015579137588, 252.80859210501686, 252.80859210501688, 252.84779878556952, 252.84779878556955, 254.86038541765242, 254.86038541765242, 256.66567344320293, 256.665673443203, 257.9283938195692, 257.9283938195692, 259.2783673628638, 259.2783673628638, 260.35090251629026, 260.3509025162903, 261.5568938497824, 261.55689384978245, 261.58134917890146, 261.5813491789015, 262.68062101987744, 262.6806210198775, 263.9820357003596, 263.9820357003596, 265.714908610233, 265.714908610233, 266.6015538864021, 266.60155388640214, 267.1252693316988, 267.1252693316988, 267.2688461926535, 267.26884619265354, 267.7770844482963, 267.77708444829636, 268.4485259348753, 268.4485259348753, 269.9846331391217, 269.98463313912174, 270.0438178138075, 270.04381781380755, 273.17377617534595, 273.17377617534595, 274.3851638331047, 274.3851638331047, 279.07078279654496, 279.070782796545, 280.40353569477, 280.40353569477, 280.8426551789656, 280.8426551789656, 283.68757122918845, 283.68757122918845, 285.4885437619889, 285.488543761989, 287.5067820258077, 287.5067820258077, 289.127763015021, 289.12776301502106, 289.182875416981, 289.18287541698106, 290.18247085021534, 290.18247085021534, 290.30258562863895, 290.30258562863906, 292.3483921899192, 292.3483921899192, 292.4888429733888, 292.4888429733888, 292.9385250317283, 292.9385250317283, 293.5624533630219, 293.5624533630221, 295.35988648697804, 295.35988648697804, 295.85024714049723, 295.85024714049723, 296.9302643881217, 296.9302643881217, 297.6376151321191, 297.6376151321191, 297.86784731185804, 297.86784731185804, 298.1812221996148, 298.1812221996148, 300.95986363149086, 300.95986363149086, 302.63403866438114, 302.63403866438114, 306.91991633279565, 306.91991633279565, 306.98593221427916, 306.9859322142792, 307.9965084344399, 307.99650843443993, 309.6755853128981, 309.6755853128981, 310.7173477564047, 310.71734775640476, 311.1639620025033, 311.16396200250335, 311.7832196295038, 311.78321962950383, 311.8707650097157, 311.8707650097157, 314.333849592645, 314.333849592645, 314.4020975733154, 314.4020975733154, 315.1567550015125, 315.1567550015126, 317.1646062758775, 317.16460627587753, 317.45658703239, 317.4565870323901, 319.5943144118581, 319.59431441185814, 320.7837794613141, 320.7837794613141, 320.82011874079984, 320.8201187407999, 320.96179496420774, 320.96179496420785, 322.9770015136488, 322.9770015136488, 324.4347160713462, 324.4347160713463, 324.497162160278, 324.497162160278, 324.96992285482395, 324.96992285482406, 325.17267405589047, 325.17267405589047, 326.54200316989557, 326.54200316989557, 329.98346518908653, 329.98346518908653, 330.6706690737572, 330.67066907375727, 332.8586695533787, 332.8586695533787, 337.0666059675969, 337.0666059675969, 338.9401735967891, 338.9401735967891, 339.4594749000052, 339.4594749000052, 340.96025688798636, 340.96025688798636, 342.0243571679668, 342.0243571679668, 342.0603722888408, 342.0603722888408, 344.816941735196, 344.816941735196, 345.4432704235272, 345.4432704235273, 345.77929581253886, 345.7792958125389, 345.8440021742194, 345.8440021742194, 347.24847327041584, 347.24847327041596, 347.3039562176299, 347.30395621762995, 347.76243982509504, 347.76243982509504, 348.86435429482134, 348.8643542948214, 349.4488015968757, 349.4488015968758, 352.0059801178247, 352.0059801178247, 352.9939438187699, 352.99394381876994, 353.66849844775845, 353.66849844775845, 354.21560168831184, 354.21560168831184, 355.33068474016096, 355.33068474016096, 357.9474032349042, 357.9474032349042, 358.0788621817103, 358.07886218171035, 359.39536774775235, 359.39536774775235, 360.38428451381617, 360.3842845138162, 361.17169072082316, 361.1716907208233, 363.100619523571, 363.100619523571, 364.9866882585703, 364.9866882585704, 365.6274802971421, 365.62748029714214, 366.1262463158039, 366.1262463158039, 368.85381678640937, 368.8538167864094, 369.755008832617, 369.7550088326171, 372.5289068876165, 372.5289068876165, 372.69387236224156, 372.69387236224156, 373.2516926367329, 373.25169263673297, 375.49612082069916, 375.4961208206992, 375.5694176989534, 375.56941769895343, 376.27485787674954, 376.2748578767496, 376.8058109912311, 376.8058109912311, 377.4548556279777, 377.45485562797774, 377.6720988127903, 377.67209881279035, 378.2575720738915, 378.25757207389154, 379.23045313653165, 379.2304531365317, 379.6005957336596, 379.6005957336596, 379.75521794457313, 379.75521794457313, 380.50535201576037, 380.50535201576037, 386.68433074633947, 386.6843307463395, 387.6038357633046, 387.60383576330463, 388.6528375807839, 388.65283758078397, 388.9148288812746, 388.9148288812747, 389.31233193983513, 389.3123319398352, 389.53418139234293, 389.53418139234293, 392.9733282514609, 392.97332825146094, 393.11457347485697, 393.114573474857, 395.09620454337283, 395.09620454337283, 395.6620031562346, 395.6620031562346, 396.4102691312451, 396.4102691312451, 397.461475481451, 397.461475481451, 399.9210860601215, 399.9210860601216, 400.51759337231476, 400.5175933723148, 400.70900058210583, 400.7090005821059, 401.2295690001228, 401.2295690001228, 401.6280735030924, 401.6280735030924, 401.9415054394526, 401.94150543945267, 402.5794257585735, 402.5794257585735, 403.1423900023043, 403.1423900023044, 403.68426917366327, 403.6842691736633, 404.5467366545247, 404.5467366545247, 405.0260251464064, 405.0260251464065, 405.20988676320724, 405.2098867632073, 406.35853122682136, 406.35853122682136, 407.80396218164236, 407.80396218164236, 411.65628941783325, 411.65628941783325, 411.7786622579307, 411.7786622579308, 412.1377389941581, 412.1377389941581, 412.4434160089344, 412.4434160089344, 412.96685292519356, 412.9668529251937, 413.88149351834096, 413.8814935183411, 414.0699724355048, 414.06997243550484, 415.18763406587095, 415.187634065871, 416.3798220762771, 416.3798220762772, 418.68365261096767, 418.6836526109678, 421.20755158745055, 421.2075515874506, 421.37179061058663, 421.3717906105867, 421.4836935707327, 421.4836935707328, 422.04704641629934, 422.04704641629934, 425.5650421139655, 425.5650421139655, 425.6234098861063, 425.6234098861064, 428.2035125914304, 428.2035125914304, 428.89173818494, 428.89173818494, 428.9564253153102, 428.9564253153102, 429.814577401654, 429.81457740165405, 430.6088253304587, 430.6088253304588, 432.65082493440514, 432.65082493440514, 433.73508764517106, 433.73508764517106, 435.9335204415732, 435.9335204415732, 436.64940712034445, 436.64940712034445, 438.17415109882097, 438.17415109882097, 439.13662421810005, 439.1366242181001, 439.14881657451645, 439.1488165745165, 440.1072394862679, 440.107239486268, 442.4143007351507, 442.4143007351508, 442.7363946579195, 442.73639465791956, 442.9798659832521, 442.9798659832522, 446.59695182221225, 446.5969518222123, 446.86717663372974, 446.86717663372974, 448.0759392717344, 448.07593927173446, 448.3528730786216, 448.3528730786216, 450.6720538849114, 450.6720538849114, 451.16565392648783, 451.1656539264879, 451.467689207917, 451.467689207917, 452.54349075451717, 452.5434907545172, 452.75715453339467, 452.75715453339467, 453.61186836301636, 453.61186836301636, 454.2076286861728, 454.20762868617294, 454.5579345759024, 454.5579345759024, 455.13723281228147, 455.13723281228147, 455.85143596179455, 455.85143596179455, 456.19687851394673, 456.1968785139468, 456.55141744256457, 456.55141744256457, 457.0892190907127, 457.08921909071273, 457.47120001863806, 457.47120001863806, 458.2136960936106, 458.2136960936106, 458.3248218786694, 458.3248218786695, 458.39842465101765, 458.39842465101765, 458.8463430118185, 458.8463430118186, 460.51427583192753, 460.5142758319276, 464.06337786397984, 464.0633778639799, 466.8486157495267, 466.8486157495268, 468.17073491652525, 468.17073491652525, 468.39645073083324, 468.39645073083324, 468.8333948929485, 468.8333948929485, 469.71903946997196, 469.7190394699722, 469.8403312886478, 469.8403312886478, 470.5850962441224, 470.5850962441224, 472.5136349331323, 472.5136349331323, 473.06185565270914, 473.06185565270914, 473.5457468431697, 473.5457468431697, 474.54966730918596, 474.54966730918596, 475.06783282619364, 475.06783282619375, 476.07272882692695, 476.072728826927, 476.4968171638833, 476.4968171638833, 476.9694625963824, 476.96946259638247, 481.7535852891697, 481.7535852891697, 482.01612803807274, 482.01612803807274, 483.58510217304814, 483.5851021730482, 483.80145324914696, 483.80145324914696, 484.0474832331003, 484.04748323310037, 485.3315906687301, 485.3315906687301, 486.156237325405, 486.1562373254051, 486.66501133479346, 486.6650113347937, 487.97993415734203, 487.9799341573421, 488.5728256344911, 488.5728256344911, 488.9211227224108, 488.9211227224108, 489.28937533029887, 489.2893753302989, 490.1186824920781, 490.11868249207816, 492.20191994194187, 492.2019199419421, 493.44653730308744, 493.4465373030875, 493.76160951276245, 493.76160951276245, 494.5468315720506, 494.5468315720506, 498.1800008878015, 498.1800008878016, 500.1660877645219, 500.166087764522, 501.7286723554915, 501.7286723554915, 502.9068424220651, 502.90684242206515, 504.9085070220338, 504.90850702203386, 504.94775444039857, 504.94775444039857, 505.56756859428145, 505.56756859428157, 505.90632000368794, 505.906320003688, 506.8208406552094, 506.8208406552095, 507.85069823990546, 507.85069823990546, 507.9854397487867, 507.98543974878675, 508.87417891039536, 508.87417891039547, 509.47321064078193, 509.47321064078193, 510.75627040203625, 510.75627040203625, 512.7114122613855, 512.7114122613856, 515.2037812505356, 515.2037812505357, 515.9767145460503, 515.9767145460504, 516.8848755836126, 516.8848755836126, 517.0067958890579, 517.006795889058, 517.1630557112126, 517.1630557112126, 517.8053574550883, 517.8053574550883, 518.1684319934901, 518.1684319934901, 518.7780769868431, 518.7780769868431, 519.1909814644499, 519.1909814644499, 520.986353317706, 520.9863533177061, 521.0319944829138, 521.0319944829139, 524.4182390880133, 524.4182390880133, 525.3841468646233, 525.3841468646233, 525.8242101903751, 525.8242101903752, 526.0646112277192, 526.0646112277192, 527.0609417424558, 527.0609417424558, 529.0693564778572, 529.0693564778574, 530.7001922047706, 530.7001922047706, 531.2811978030829, 531.2811978030829, 536.0619912421547, 536.0619912421547, 540.5661308454812, 540.5661308454812, 540.848908820557, 540.8489088205571, 542.9532758149376, 542.9532758149376, 543.6883625683099, 543.68836256831, 545.2087564284751, 545.2087564284752, 545.3736325758455, 545.3736325758455, 548.1757412980226, 548.1757412980227, 548.2382434745239, 548.238243474524, 548.6169046481754, 548.6169046481755, 549.166376107268, 549.1663761072681, 550.0396180084082, 550.0396180084082, 551.3305745435895, 551.3305745435895, 552.5523283616812, 552.5523283616814, 552.6323746974864, 552.6323746974865, 553.7268831563051, 553.7268831563052, 553.7571385576143, 553.7571385576143, 555.7874051122446, 555.7874051122448, 559.6093618322307, 559.6093618322308, 560.4073660295517, 560.4073660295518, 561.5132576967682, 561.5132576967683, 562.2554691906447, 562.2554691906448, 563.5234706478858, 563.5234706478858, 567.6681135324284, 567.6681135324285, 568.1579163032616, 568.1579163032616, 569.4003621727863, 569.4003621727863, 571.1949751446404, 571.1949751446405, 572.2584880935977, 572.2584880935977, 573.773289847278, 573.7732898472782, 574.8829797440007, 574.8829797440007, 575.9169950459313, 575.9169950459313, 578.0093430129223, 578.0093430129223, 579.0317508017887, 579.0317508017887, 579.7232439903315, 579.7232439903315, 580.0046127230663, 580.0046127230664, 581.4042611398582, 581.4042611398582, 581.786876040041, 581.786876040041, 583.5922763961, 583.5922763961, 584.3429445128188, 584.3429445128188, 589.4623818884094, 589.4623818884095, 590.3848108143413, 590.3848108143413, 593.5034047388295, 593.5034047388295, 594.0459730719075, 594.0459730719075, 596.3340774569376, 596.3340774569377, 600.1647250041574, 600.1647250041575, 600.5897154420837, 600.5897154420838, 600.6630158290105, 600.6630158290106, 600.783676717559, 600.7836767175592, 601.9617022165584, 601.9617022165585, 602.5230366769183, 602.5230366769185, 604.4138666050713, 604.4138666050715, 605.3817625828051, 605.3817625828051, 605.4280243743842, 605.4280243743842, 605.8463835064904, 605.8463835064905, 607.6143329538659, 607.6143329538661, 608.5203434034931, 608.5203434034933, 608.8387214186514, 608.8387214186514, 609.3303961083053, 609.3303961083055, 609.4573395532715, 609.4573395532715, 610.2704980872941, 610.2704980872941, 610.400005757344, 610.4000057573442, 610.601967109929, 610.601967109929, 611.9231478910291, 611.9231478910291, 614.3768651690607, 614.3768651690607, 615.6045783123285, 615.6045783123286, 616.4586021846914, 616.4586021846915, 617.0631526752512, 617.0631526752514, 617.1445804984587, 617.1445804984587, 617.9713183815619, 617.971318381562, 618.0747792049324, 618.0747792049325, 619.768146509295, 619.7681465092951, 621.016559639911, 621.0165596399111, 622.759323420911, 622.759323420911, 623.5207920877093, 623.5207920877094, 623.7411915253236, 623.7411915253236, 624.0269264686758, 624.0269264686758, 625.0086744270949, 625.008674427095, 625.0537676676743, 625.0537676676743, 625.9923130134873, 625.9923130134874, 629.3168686444792, 629.3168686444795, 629.5701925706625, 629.5701925706625, 631.2301589548208, 631.2301589548209, 631.5341618749547, 631.5341618749549, 632.1481060680114, 632.1481060680115, 633.3818049363152, 633.3818049363153, 634.5589763061722, 634.5589763061723, 640.487982243665, 640.487982243665, 641.926840825111, 641.9268408251112, 642.6605545188731, 642.6605545188733, 642.7067634354495, 642.7067634354495, 647.559470248719, 647.5594702487191, 647.7768433150083, 647.7768433150084, 647.8255996307014, 647.8255996307015, 650.2211968018696, 650.2211968018696, 651.6873200464231, 651.6873200464232, 653.2172951810131, 653.2172951810134, 655.1721348620663, 655.1721348620664, 659.5083182032803, 659.5083182032803, 659.7260465502675, 659.7260465502677, 659.7626969806777, 659.7626969806777, 660.6069525643576, 660.6069525643576, 662.1102451290144, 662.1102451290144, 662.6382951793087, 662.6382951793087, 665.5275567157474, 665.5275567157476, 665.685531212383, 665.6855312123831, 665.9465945457775, 665.9465945457779, 666.0112650736532, 666.0112650736535, 667.7058128530958, 667.705812853096, 669.2777022562561, 669.2777022562562, 669.4322294739538, 669.432229473954, 670.9981419127885, 670.9981419127887, 675.2696673047199, 675.2696673047201, 675.5717338223974, 675.5717338223975, 675.8965097467578, 675.8965097467578, 676.5743011795636, 676.5743011795637, 681.3106248658898, 681.3106248658898, 681.8547939392685, 681.8547939392686, 682.1776331414897, 682.1776331414898, 683.883089001562, 683.883089001562, 684.3046947609032, 684.3046947609033, 684.4028163524818, 684.4028163524818, 687.8025915444284, 687.8025915444284, 689.3457808149026, 689.3457808149026, 691.3190675969489, 691.319067596949, 693.0504918304875, 693.0504918304877, 693.9081530141207, 693.9081530141208, 695.9239970605613, 695.9239970605613, 698.8709721332364, 698.8709721332365, 698.9882569406202, 698.9882569406202, 701.2551327930039, 701.2551327930041, 701.3382786382592, 701.3382786382592, 702.2934021620941, 702.2934021620941, 702.8241690707182, 702.8241690707182, 704.904971126873, 704.9049711268731, 705.5847944718753, 705.5847944718755, 706.3842391691909, 706.384239169191, 707.0648800902675, 707.0648800902676, 708.5276777950718, 708.527677795072, 709.0629180320568, 709.0629180320568, 710.4151769536766, 710.415176953677, 711.5183465901652, 711.5183465901653, 712.3917011666815, 712.3917011666815, 714.6580630547479, 714.6580630547479, 714.7192507226408, 714.7192507226409, 715.8999168996672, 715.8999168996673, 716.934392072596, 716.9343920725961, 718.6979712859321, 718.6979712859322, 719.4362626696781, 719.4362626696781, 720.17204984554, 720.17204984554, 720.174725524513, 720.174725524513, 720.4266236111639, 720.426623611164, 721.8398415976914, 721.8398415976917, 723.1123945071995, 723.1123945071996, 723.5875142508804, 723.5875142508805, 725.4148681994686, 725.4148681994686, 725.9549449305653, 725.9549449305655, 726.0774336231063, 726.0774336231065, 726.0925079018059, 726.092507901806, 727.870002740518, 727.8700027405182, 728.5724124568218, 728.5724124568219, 728.6603493616104, 728.6603493616104, 729.1901124283979, 729.1901124283979, 729.2867374359414, 729.2867374359415, 730.683661148659, 730.6836611486591, 731.5713438063092, 731.5713438063094, 731.6102261296165, 731.6102261296168, 732.395405854389, 732.3954058543892, 732.4971936734298, 732.4971936734299, 733.0675626399243, 733.0675626399244, 733.174278611739, 733.1742786117393, 733.4900787420855, 733.4900787420856, 733.7734952966736, 733.7734952966737, 733.8109149724901, 733.8109149724901, 736.1860744040764, 736.1860744040766, 736.5436038249857, 736.5436038249858, 737.0194781255904, 737.0194781255905, 738.0965597980324, 738.0965597980326, 741.959296576879, 741.9592965768791, 742.2935460540916, 742.2935460540916, 742.5537501930326, 742.5537501930326, 743.2677568959784, 743.2677568959786, 744.4571396755636, 744.4571396755637, 744.7028488756399, 744.70284887564, 746.2664918161286, 746.2664918161286, 747.2654271632482, 747.2654271632483, 748.7856846576617, 748.7856846576618, 749.9723174698422, 749.9723174698424, 751.067930685103, 751.0679306851031, 753.6356287879606, 753.6356287879606, 754.8064896529465, 754.8064896529465, 755.0151890654104, 755.0151890654104, 756.5206165746905, 756.5206165746905, 758.1304053633718, 758.1304053633722, 759.0361725209275, 759.0361725209275, 761.294965626671, 761.2949656266711, 762.3577006420064, 762.3577006420065, 763.018340038808, 763.0183400388082, 763.6412444919657, 763.6412444919657, 763.6630620640949, 763.6630620640949, 764.4309312386777, 764.4309312386778, 765.6797830285734, 765.6797830285734, 766.492809213009, 766.4928092130092, 768.9779485493937, 768.9779485493937, 769.3587340530494, 769.3587340530496, 769.9590936837415, 769.9590936837416, 770.1687735179862, 770.1687735179863, 771.4139680736424, 771.4139680736424, 771.6727035348879, 771.672703534888, 772.0676154112667, 772.0676154112668, 772.1337694842588, 772.1337694842589, 773.1607874822021, 773.1607874822023, 778.9381592278229, 778.9381592278229, 780.8817032493317, 780.8817032493321, 782.53906922019, 782.5390692201901, 784.2585024222824, 784.2585024222825, 784.5162704577334, 784.5162704577335, 784.7895999862006, 784.7895999862006, 785.939124527625, 785.939124527625, 786.7691097862723, 786.7691097862723, 787.5840446841326, 787.5840446841329, 788.4930340573435, 788.4930340573436, 788.5142872315479, 788.5142872315479, 788.6405406389881, 788.6405406389881, 789.7042702327313, 789.7042702327315, 790.5705756194559, 790.5705756194559, 790.8303204760971, 790.8303204760972, 791.1288880050339, 791.1288880050341, 792.7279168328924, 792.7279168328924, 793.324236287749, 793.324236287749, 794.2288842126378, 794.2288842126378, 795.3752011376847, 795.3752011376848, 798.8113841380654, 798.8113841380656, 799.0480478523854, 799.0480478523856, 801.3629174172088, 801.3629174172089, 803.4125177795826, 803.4125177795826, 805.4273570685817, 805.4273570685818, 808.5487515788197, 808.54875157882, 808.6261644089584, 808.6261644089584, 809.6207311650406, 809.6207311650409, 813.7138482586321, 813.7138482586322, 814.4855297890432, 814.4855297890434, 815.9848429184809, 815.9848429184809, 817.2723324132448, 817.2723324132448, 819.1371655916498, 819.1371655916498, 819.8510221530465, 819.8510221530465, 820.0994406279649, 820.0994406279649, 820.184721440564, 820.1847214405643, 820.3100182556065, 820.3100182556065, 820.9707981227697, 820.9707981227697, 821.7640300637789, 821.7640300637792, 821.9415672938493, 821.9415672938493, 822.3307453269708, 822.3307453269708, 824.0945434083543, 824.0945434083544, 824.1681962772686, 824.1681962772687, 825.1909274187897, 825.1909274187897, 826.4411660481817, 826.4411660481819, 826.7074314463264, 826.7074314463265]\n"
     ]
    }
   ],
   "source": [
    "borders = check_small_boundary_lengths(vest_base)\n",
    "print(borders[:500])"
   ]
  },
  {
   "cell_type": "code",
   "execution_count": 30,
   "metadata": {},
   "outputs": [
    {
     "name": "stdout",
     "output_type": "stream",
     "text": [
      "Snapping all geometries to a grid with precision 10^( -5 ) to avoid GEOS errors.\n",
      "Identifying overlaps...\n"
     ]
    },
    {
     "name": "stderr",
     "output_type": "stream",
     "text": [
      "100%|█████████████████████████████████████| 1810/1810 [00:00<00:00, 3706.35it/s]\n"
     ]
    },
    {
     "name": "stdout",
     "output_type": "stream",
     "text": [
      "Resolving overlaps...\n",
      "Filling gaps...\n"
     ]
    },
    {
     "name": "stderr",
     "output_type": "stream",
     "text": [
      "Gaps to simplify: 0it [00:00, ?it/s]\n",
      "Gaps to fill: 0it [00:00, ?it/s]\n"
     ]
    },
    {
     "name": "stdout",
     "output_type": "stream",
     "text": [
      "Converting small rook adjacencies to queen...\n"
     ]
    },
    {
     "name": "stderr",
     "output_type": "stream",
     "text": [
      "100%|██████████████████████████████████████| 1671/1671 [00:02<00:00, 719.01it/s]\n",
      "100%|███████████████████████████████████████████| 5/5 [00:00<00:00, 3032.32it/s]\n",
      "100%|███████████████████████████████████████████| 5/5 [00:00<00:00, 3008.83it/s]\n",
      "100%|███████████████████████████████████████████| 4/4 [00:00<00:00, 3286.43it/s]\n",
      "100%|███████████████████████████████████████████| 4/4 [00:00<00:00, 2363.99it/s]\n",
      "100%|███████████████████████████████████████████| 6/6 [00:00<00:00, 3126.58it/s]\n",
      "100%|███████████████████████████████████████████| 4/4 [00:00<00:00, 2762.14it/s]\n",
      "100%|███████████████████████████████████████████| 5/5 [00:00<00:00, 3012.28it/s]\n",
      "100%|███████████████████████████████████████████| 5/5 [00:00<00:00, 2895.42it/s]\n",
      "100%|███████████████████████████████████████████| 4/4 [00:00<00:00, 2773.55it/s]\n",
      "100%|███████████████████████████████████████████| 4/4 [00:00<00:00, 2871.83it/s]\n",
      "100%|███████████████████████████████████████████| 6/6 [00:00<00:00, 3128.13it/s]\n",
      "100%|███████████████████████████████████████████| 4/4 [00:00<00:00, 3074.44it/s]\n",
      "100%|███████████████████████████████████████████| 4/4 [00:00<00:00, 2567.29it/s]\n",
      "100%|███████████████████████████████████████████| 4/4 [00:00<00:00, 3084.05it/s]\n",
      "100%|███████████████████████████████████████████| 4/4 [00:00<00:00, 2512.69it/s]\n",
      "100%|███████████████████████████████████████████| 5/5 [00:00<00:00, 3156.46it/s]\n",
      "100%|███████████████████████████████████████████| 4/4 [00:00<00:00, 2956.34it/s]\n",
      "100%|███████████████████████████████████████████| 4/4 [00:00<00:00, 2976.27it/s]\n",
      "100%|███████████████████████████████████████████| 4/4 [00:00<00:00, 3060.42it/s]\n",
      "100%|███████████████████████████████████████████| 4/4 [00:00<00:00, 3616.56it/s]\n",
      "100%|███████████████████████████████████████████| 4/4 [00:00<00:00, 3088.59it/s]\n",
      "100%|███████████████████████████████████████████| 4/4 [00:00<00:00, 3162.53it/s]\n",
      "100%|███████████████████████████████████████████| 4/4 [00:00<00:00, 3413.47it/s]\n",
      "100%|███████████████████████████████████████████| 4/4 [00:00<00:00, 3184.74it/s]\n",
      "100%|███████████████████████████████████████████| 5/5 [00:00<00:00, 3231.86it/s]\n",
      "100%|██████████████████████████████████████| 1671/1671 [00:02<00:00, 732.31it/s]\n"
     ]
    }
   ],
   "source": [
    "vest_base = do_smart_repair(vest_base, min_rook_length = 30.5)"
   ]
  },
  {
   "cell_type": "code",
   "execution_count": 31,
   "metadata": {},
   "outputs": [
    {
     "name": "stderr",
     "output_type": "stream",
     "text": [
      "100%|██████████████████████████████████████| 1671/1671 [00:02<00:00, 750.88it/s]\n"
     ]
    },
    {
     "data": {
      "text/plain": [
       "True"
      ]
     },
     "execution_count": 31,
     "metadata": {},
     "output_type": "execute_result"
    }
   ],
   "source": [
    "maup.doctor(vest_base)"
   ]
  },
  {
   "cell_type": "code",
   "execution_count": 32,
   "metadata": {},
   "outputs": [
    {
     "name": "stderr",
     "output_type": "stream",
     "text": [
      "100%|█████████████████████████████████████| 1671/1671 [00:01<00:00, 1078.05it/s]\n",
      "100%|██████████████████████████████████████| 1671/1671 [00:09<00:00, 171.85it/s]\n"
     ]
    }
   ],
   "source": [
    "# vap and population have the same GEOID20\n",
    "blocks_to_precincts_assignment = maup.assign(population_df.geometry, vest_base.geometry)"
   ]
  },
  {
   "cell_type": "code",
   "execution_count": 33,
   "metadata": {},
   "outputs": [],
   "source": [
    "vest_base[pop_col] = population_df[pop_col].groupby(blocks_to_precincts_assignment).sum()"
   ]
  },
  {
   "cell_type": "code",
   "execution_count": 34,
   "metadata": {},
   "outputs": [],
   "source": [
    "election_df = gpd.GeoDataFrame(vest_base)"
   ]
  },
  {
   "cell_type": "code",
   "execution_count": 35,
   "metadata": {},
   "outputs": [
    {
     "data": {
      "text/plain": [
       "Index(['AGR20D', 'AGR20R', 'ATG20D', 'ATG20R', 'AUD20D', 'AUD20R', 'COUNTYFP',\n",
       "       'GOV20D', 'GOV20O', 'GOV20R', 'NAME', 'NAMELSAD', 'PRE20D', 'PRE20O',\n",
       "       'PRE20R', 'SOS20D', 'SOS20R', 'STATEFP', 'TRE20D', 'TRE20R', 'USS20D',\n",
       "       'USS20O', 'USS20R', 'VTDST', 'geometry', 'TOTPOP', 'HISP', 'NH_WHITE',\n",
       "       'NH_BLACK', 'NH_AMIN', 'NH_ASIAN', 'NH_NHPI', 'NH_OTHER', 'NH_2MORE',\n",
       "       'H_WHITE', 'H_BLACK', 'H_AMIN', 'H_ASIAN', 'H_NHPI', 'H_OTHER',\n",
       "       'H_2MORE', 'VAP', 'HVAP', 'WVAP', 'BVAP', 'AMINVAP', 'ASIANVAP',\n",
       "       'NHPIVAP', 'OTHERVAP', '2MOREVAP'],\n",
       "      dtype='object')"
      ]
     },
     "execution_count": 35,
     "metadata": {},
     "output_type": "execute_result"
    }
   ],
   "source": [
    "election_df.columns"
   ]
  },
  {
   "cell_type": "markdown",
   "metadata": {},
   "source": [
    "## Check if population agrees"
   ]
  },
  {
   "cell_type": "code",
   "execution_count": 37,
   "metadata": {},
   "outputs": [
    {
     "name": "stdout",
     "output_type": "stream",
     "text": [
      "population agrees\n"
     ]
    }
   ],
   "source": [
    "check_population(population_df, vest_base)"
   ]
  },
  {
   "cell_type": "markdown",
   "metadata": {},
   "source": [
    "## Add more vest data"
   ]
  },
  {
   "cell_type": "code",
   "execution_count": 39,
   "metadata": {},
   "outputs": [],
   "source": [
    "vest18 = gpd.read_file(vest18_data)\n",
    "vest16 = gpd.read_file(vest16_data)"
   ]
  },
  {
   "cell_type": "code",
   "execution_count": 40,
   "metadata": {},
   "outputs": [
    {
     "data": {
      "text/plain": [
       "Index(['STATEFP', 'COUNTYFP', 'VTDST', 'NAME', 'NAMELSAD', 'G18USSRMOR',\n",
       "       'G18USSDMAN', 'G18USSLHOL', 'geometry'],\n",
       "      dtype='object')"
      ]
     },
     "execution_count": 40,
     "metadata": {},
     "output_type": "execute_result"
    }
   ],
   "source": [
    "vest18.columns"
   ]
  },
  {
   "cell_type": "code",
   "execution_count": 41,
   "metadata": {},
   "outputs": [
    {
     "data": {
      "text/plain": [
       "Index(['STATEFP', 'COUNTYFP', 'VTDST', 'NAME', 'NAMELSAD', 'G16PRERTRU',\n",
       "       'G16PREDCLI', 'G16PRELJOH', 'G16PREMSTE', 'G16PRECCAS', 'G16GOVRCOL',\n",
       "       'G16GOVDJUS', 'G16GOVLMOR', 'G16GOVMPRI', 'G16GOVCHUD', 'G16SOSRWAR',\n",
       "       'G16SOSDTEN', 'G16SOSLBUC', 'G16AUDRMCC', 'G16AUDDCLA', 'G16AUDLRIC',\n",
       "       'G16TRERURL', 'G16TREDPER', 'G16TRELYOU', 'G16AGRRLEO', 'G16AGRDHEL',\n",
       "       'G16AGRLGUT', 'G16ATGRMOR', 'G16ATGDREY', 'G16ATGLKOL', 'G16ATGMSHA',\n",
       "       'geometry'],\n",
       "      dtype='object')"
      ]
     },
     "execution_count": 41,
     "metadata": {},
     "output_type": "execute_result"
    }
   ],
   "source": [
    "vest16.columns"
   ]
  },
  {
   "cell_type": "code",
   "execution_count": 42,
   "metadata": {},
   "outputs": [
    {
     "name": "stderr",
     "output_type": "stream",
     "text": [
      "100%|██████████████████████████████████████| 1704/1704 [00:02<00:00, 710.42it/s]\n"
     ]
    },
    {
     "name": "stdout",
     "output_type": "stream",
     "text": [
      "There are 19 overlaps.\n",
      "Snapping all geometries to a grid with precision 10^( -5 ) to avoid GEOS errors.\n",
      "Identifying overlaps...\n"
     ]
    },
    {
     "name": "stderr",
     "output_type": "stream",
     "text": [
      "100%|█████████████████████████████████████| 1862/1862 [00:00<00:00, 3634.06it/s]\n"
     ]
    },
    {
     "name": "stdout",
     "output_type": "stream",
     "text": [
      "Resolving overlaps...\n",
      "Assigning order 2 pieces...\n",
      "Filling gaps...\n"
     ]
    },
    {
     "name": "stderr",
     "output_type": "stream",
     "text": [
      "Gaps to simplify: 0it [00:00, ?it/s]\n",
      "Gaps to fill: 0it [00:00, ?it/s]\n",
      "100%|██████████████████████████████████████| 1704/1704 [00:02<00:00, 680.84it/s]\n",
      "100%|█████████████████████████████████████| 1704/1704 [00:01<00:00, 1034.67it/s]\n",
      "100%|██████████████████████████████████████| 1704/1704 [00:10<00:00, 169.30it/s]\n",
      "100%|█████████████████████████████████████| 1671/1671 [00:01<00:00, 1075.02it/s]\n",
      "100%|██████████████████████████████████████| 1671/1671 [00:09<00:00, 170.95it/s]\n"
     ]
    },
    {
     "name": "stdout",
     "output_type": "stream",
     "text": [
      "population agrees\n"
     ]
    }
   ],
   "source": [
    "# check the result here\n",
    "election_df = add_vest(vest18, election_df, '18', population_df, start_col)"
   ]
  },
  {
   "cell_type": "code",
   "execution_count": 43,
   "metadata": {},
   "outputs": [
    {
     "data": {
      "text/plain": [
       "Index(['2MOREVAP', 'AGR20D', 'AGR20R', 'AMINVAP', 'ASIANVAP', 'ATG20D',\n",
       "       'ATG20R', 'AUD20D', 'AUD20R', 'BVAP', 'COUNTYFP', 'GOV20D', 'GOV20O',\n",
       "       'GOV20R', 'HISP', 'HVAP', 'H_2MORE', 'H_AMIN', 'H_ASIAN', 'H_BLACK',\n",
       "       'H_NHPI', 'H_OTHER', 'H_WHITE', 'NAME', 'NAMELSAD', 'NHPIVAP',\n",
       "       'NH_2MORE', 'NH_AMIN', 'NH_ASIAN', 'NH_BLACK', 'NH_NHPI', 'NH_OTHER',\n",
       "       'NH_WHITE', 'OTHERVAP', 'PRE20D', 'PRE20O', 'PRE20R', 'SOS20D',\n",
       "       'SOS20R', 'STATEFP', 'TOTPOP', 'TRE20D', 'TRE20R', 'USS18D', 'USS18O',\n",
       "       'USS18R', 'USS20D', 'USS20O', 'USS20R', 'VAP', 'VTDST', 'WVAP',\n",
       "       'geometry'],\n",
       "      dtype='object')"
      ]
     },
     "execution_count": 43,
     "metadata": {},
     "output_type": "execute_result"
    }
   ],
   "source": [
    "election_df.columns"
   ]
  },
  {
   "cell_type": "code",
   "execution_count": 44,
   "metadata": {},
   "outputs": [
    {
     "name": "stderr",
     "output_type": "stream",
     "text": [
      "100%|██████████████████████████████████████| 1721/1721 [00:02<00:00, 727.84it/s]\n"
     ]
    },
    {
     "name": "stdout",
     "output_type": "stream",
     "text": [
      "There are 20 overlaps.\n",
      "Snapping all geometries to a grid with precision 10^( -5 ) to avoid GEOS errors.\n",
      "Identifying overlaps...\n"
     ]
    },
    {
     "name": "stderr",
     "output_type": "stream",
     "text": [
      "100%|█████████████████████████████████████| 1876/1876 [00:00<00:00, 3631.32it/s]\n"
     ]
    },
    {
     "name": "stdout",
     "output_type": "stream",
     "text": [
      "Resolving overlaps...\n",
      "Assigning order 2 pieces...\n",
      "Filling gaps...\n"
     ]
    },
    {
     "name": "stderr",
     "output_type": "stream",
     "text": [
      "Gaps to simplify: 0it [00:00, ?it/s]\n",
      "Gaps to fill: 0it [00:00, ?it/s]\n",
      "100%|██████████████████████████████████████| 1721/1721 [00:02<00:00, 747.89it/s]\n",
      "100%|██████████████████████████████████████| 1721/1721 [00:01<00:00, 976.55it/s]\n",
      "100%|██████████████████████████████████████| 1721/1721 [00:09<00:00, 172.91it/s]\n",
      "100%|█████████████████████████████████████| 1671/1671 [00:01<00:00, 1131.16it/s]\n",
      "100%|██████████████████████████████████████| 1671/1671 [00:09<00:00, 169.00it/s]\n"
     ]
    },
    {
     "name": "stdout",
     "output_type": "stream",
     "text": [
      "population agrees\n"
     ]
    }
   ],
   "source": [
    "election_df = add_vest(vest16, election_df, '16', population_df, start_col)"
   ]
  },
  {
   "cell_type": "markdown",
   "metadata": {},
   "source": [
    "##  Add the district data"
   ]
  },
  {
   "cell_type": "code",
   "execution_count": 47,
   "metadata": {},
   "outputs": [],
   "source": [
    "cong_df = gpd.read_file(cd_data)\n",
    "cong_df = cong_df.to_crs(cong_df.estimate_utm_crs())\n",
    "send = gpd.read_file(send_data)\n",
    "send = send.to_crs(send.estimate_utm_crs())\n",
    "hdist = gpd.read_file(hdist_data)\n",
    "hdist = hdist.to_crs(hdist.estimate_utm_crs())"
   ]
  },
  {
   "cell_type": "code",
   "execution_count": 48,
   "metadata": {},
   "outputs": [
    {
     "data": {
      "text/html": [
       "<div>\n",
       "<style scoped>\n",
       "    .dataframe tbody tr th:only-of-type {\n",
       "        vertical-align: middle;\n",
       "    }\n",
       "\n",
       "    .dataframe tbody tr th {\n",
       "        vertical-align: top;\n",
       "    }\n",
       "\n",
       "    .dataframe thead th {\n",
       "        text-align: right;\n",
       "    }\n",
       "</style>\n",
       "<table border=\"1\" class=\"dataframe\">\n",
       "  <thead>\n",
       "    <tr style=\"text-align: right;\">\n",
       "      <th></th>\n",
       "      <th>ID</th>\n",
       "      <th>AREA</th>\n",
       "      <th>DISTRICT</th>\n",
       "      <th>MEMBERS</th>\n",
       "      <th>LOCKED</th>\n",
       "      <th>NAME</th>\n",
       "      <th>POPULATION</th>\n",
       "      <th>F18_POP</th>\n",
       "      <th>IDEAL_VALU</th>\n",
       "      <th>DEVIATION</th>\n",
       "      <th>F_DEVIATIO</th>\n",
       "      <th>F_18_POP</th>\n",
       "      <th>MULTIPLE_F</th>\n",
       "      <th>DISTRICT_L</th>\n",
       "      <th>geometry</th>\n",
       "    </tr>\n",
       "  </thead>\n",
       "  <tbody>\n",
       "    <tr>\n",
       "      <th>0</th>\n",
       "      <td>2</td>\n",
       "      <td>9771.11621</td>\n",
       "      <td>2</td>\n",
       "      <td>1.0</td>\n",
       "      <td>None</td>\n",
       "      <td>None</td>\n",
       "      <td>897649</td>\n",
       "      <td>717250</td>\n",
       "      <td>896858.0</td>\n",
       "      <td>791.0</td>\n",
       "      <td>0.000882</td>\n",
       "      <td>0.799032</td>\n",
       "      <td>2|0.09%|897649|791</td>\n",
       "      <td>2|0.09%</td>\n",
       "      <td>POLYGON ((489544.391 4367585.415, 489656.513 4...</td>\n",
       "    </tr>\n",
       "    <tr>\n",
       "      <th>1</th>\n",
       "      <td>9</td>\n",
       "      <td>14440.57320</td>\n",
       "      <td>1</td>\n",
       "      <td>1.0</td>\n",
       "      <td>None</td>\n",
       "      <td>None</td>\n",
       "      <td>896067</td>\n",
       "      <td>715682</td>\n",
       "      <td>896858.0</td>\n",
       "      <td>-791.0</td>\n",
       "      <td>-0.000882</td>\n",
       "      <td>0.798693</td>\n",
       "      <td>1|-0.09%|896067|-791</td>\n",
       "      <td>1|-0.09%</td>\n",
       "      <td>POLYGON ((562055.344 4171851.658, 562056.589 4...</td>\n",
       "    </tr>\n",
       "  </tbody>\n",
       "</table>\n",
       "</div>"
      ],
      "text/plain": [
       "   ID         AREA DISTRICT  MEMBERS LOCKED  NAME  POPULATION  F18_POP  \\\n",
       "0   2   9771.11621        2      1.0   None  None      897649   717250   \n",
       "1   9  14440.57320        1      1.0   None  None      896067   715682   \n",
       "\n",
       "   IDEAL_VALU  DEVIATION  F_DEVIATIO  F_18_POP            MULTIPLE_F  \\\n",
       "0    896858.0      791.0    0.000882  0.799032    2|0.09%|897649|791   \n",
       "1    896858.0     -791.0   -0.000882  0.798693  1|-0.09%|896067|-791   \n",
       "\n",
       "  DISTRICT_L                                           geometry  \n",
       "0    2|0.09%  POLYGON ((489544.391 4367585.415, 489656.513 4...  \n",
       "1   1|-0.09%  POLYGON ((562055.344 4171851.658, 562056.589 4...  "
      ]
     },
     "execution_count": 48,
     "metadata": {},
     "output_type": "execute_result"
    }
   ],
   "source": [
    "cong_df.head()"
   ]
  },
  {
   "cell_type": "code",
   "execution_count": 49,
   "metadata": {},
   "outputs": [
    {
     "name": "stderr",
     "output_type": "stream",
     "text": [
      "100%|█████████████████████████████████████████████| 2/2 [00:00<00:00, 94.77it/s]\n",
      "100%|█████████████████████████████████████████████| 2/2 [00:00<00:00, 54.90it/s]\n",
      "100%|█████████████████████████████████████████████| 2/2 [00:00<00:00,  6.86it/s]\n"
     ]
    }
   ],
   "source": [
    "election_df = add_district(cong_df, \"CD\", election_df, \"DISTRICT\")"
   ]
  },
  {
   "cell_type": "code",
   "execution_count": 52,
   "metadata": {},
   "outputs": [
    {
     "data": {
      "text/html": [
       "<div>\n",
       "<style scoped>\n",
       "    .dataframe tbody tr th:only-of-type {\n",
       "        vertical-align: middle;\n",
       "    }\n",
       "\n",
       "    .dataframe tbody tr th {\n",
       "        vertical-align: top;\n",
       "    }\n",
       "\n",
       "    .dataframe thead th {\n",
       "        text-align: right;\n",
       "    }\n",
       "</style>\n",
       "<table border=\"1\" class=\"dataframe\">\n",
       "  <thead>\n",
       "    <tr style=\"text-align: right;\">\n",
       "      <th></th>\n",
       "      <th>ID</th>\n",
       "      <th>AREA</th>\n",
       "      <th>DISTRICT</th>\n",
       "      <th>MEMBERS</th>\n",
       "      <th>LOCKED</th>\n",
       "      <th>NAME</th>\n",
       "      <th>POPULATION</th>\n",
       "      <th>IDEAL_VALU</th>\n",
       "      <th>DEVIATION</th>\n",
       "      <th>F_DEVIATIO</th>\n",
       "      <th>MULTIPLE_F</th>\n",
       "      <th>DISTRICT_L</th>\n",
       "      <th>geometry</th>\n",
       "    </tr>\n",
       "  </thead>\n",
       "  <tbody>\n",
       "    <tr>\n",
       "      <th>0</th>\n",
       "      <td>1</td>\n",
       "      <td>499.417725</td>\n",
       "      <td>1</td>\n",
       "      <td>1.0</td>\n",
       "      <td>None</td>\n",
       "      <td>None</td>\n",
       "      <td>102975</td>\n",
       "      <td>105513.0</td>\n",
       "      <td>-2538.0</td>\n",
       "      <td>-0.024054</td>\n",
       "      <td>1|-2.41%|102975</td>\n",
       "      <td>1|-2.41%</td>\n",
       "      <td>POLYGON ((523044.904 4396861.766, 523043.524 4...</td>\n",
       "    </tr>\n",
       "    <tr>\n",
       "      <th>1</th>\n",
       "      <td>2</td>\n",
       "      <td>3092.952140</td>\n",
       "      <td>10</td>\n",
       "      <td>1.0</td>\n",
       "      <td>None</td>\n",
       "      <td>None</td>\n",
       "      <td>107707</td>\n",
       "      <td>105513.0</td>\n",
       "      <td>2194.0</td>\n",
       "      <td>0.020794</td>\n",
       "      <td>10|2.08%|107707</td>\n",
       "      <td>10|2.08%</td>\n",
       "      <td>POLYGON ((479753.680 4235100.839, 479755.695 4...</td>\n",
       "    </tr>\n",
       "    <tr>\n",
       "      <th>2</th>\n",
       "      <td>3</td>\n",
       "      <td>4446.639640</td>\n",
       "      <td>11</td>\n",
       "      <td>1.0</td>\n",
       "      <td>None</td>\n",
       "      <td>None</td>\n",
       "      <td>102050</td>\n",
       "      <td>105513.0</td>\n",
       "      <td>-3463.0</td>\n",
       "      <td>-0.032821</td>\n",
       "      <td>11|-3.28%|102050</td>\n",
       "      <td>11|-3.28%</td>\n",
       "      <td>POLYGON ((497244.255 4279917.847, 497507.440 4...</td>\n",
       "    </tr>\n",
       "    <tr>\n",
       "      <th>3</th>\n",
       "      <td>4</td>\n",
       "      <td>1519.752930</td>\n",
       "      <td>12</td>\n",
       "      <td>1.0</td>\n",
       "      <td>None</td>\n",
       "      <td>None</td>\n",
       "      <td>104886</td>\n",
       "      <td>105513.0</td>\n",
       "      <td>-627.0</td>\n",
       "      <td>-0.005942</td>\n",
       "      <td>12|-0.59%|104886</td>\n",
       "      <td>12|-0.59%</td>\n",
       "      <td>POLYGON ((475862.933 4307366.190, 475949.617 4...</td>\n",
       "    </tr>\n",
       "    <tr>\n",
       "      <th>4</th>\n",
       "      <td>5</td>\n",
       "      <td>209.077103</td>\n",
       "      <td>13</td>\n",
       "      <td>1.0</td>\n",
       "      <td>None</td>\n",
       "      <td>None</td>\n",
       "      <td>110029</td>\n",
       "      <td>105513.0</td>\n",
       "      <td>4516.0</td>\n",
       "      <td>0.042800</td>\n",
       "      <td>13|4.28%|110029</td>\n",
       "      <td>13|4.28%</td>\n",
       "      <td>POLYGON ((586528.338 4376914.774, 586552.532 4...</td>\n",
       "    </tr>\n",
       "  </tbody>\n",
       "</table>\n",
       "</div>"
      ],
      "text/plain": [
       "   ID         AREA DISTRICT  MEMBERS LOCKED  NAME  POPULATION  IDEAL_VALU  \\\n",
       "0   1   499.417725        1      1.0   None  None      102975    105513.0   \n",
       "1   2  3092.952140       10      1.0   None  None      107707    105513.0   \n",
       "2   3  4446.639640       11      1.0   None  None      102050    105513.0   \n",
       "3   4  1519.752930       12      1.0   None  None      104886    105513.0   \n",
       "4   5   209.077103       13      1.0   None  None      110029    105513.0   \n",
       "\n",
       "   DEVIATION  F_DEVIATIO        MULTIPLE_F DISTRICT_L  \\\n",
       "0    -2538.0   -0.024054   1|-2.41%|102975   1|-2.41%   \n",
       "1     2194.0    0.020794   10|2.08%|107707   10|2.08%   \n",
       "2    -3463.0   -0.032821  11|-3.28%|102050  11|-3.28%   \n",
       "3     -627.0   -0.005942  12|-0.59%|104886  12|-0.59%   \n",
       "4     4516.0    0.042800   13|4.28%|110029   13|4.28%   \n",
       "\n",
       "                                            geometry  \n",
       "0  POLYGON ((523044.904 4396861.766, 523043.524 4...  \n",
       "1  POLYGON ((479753.680 4235100.839, 479755.695 4...  \n",
       "2  POLYGON ((497244.255 4279917.847, 497507.440 4...  \n",
       "3  POLYGON ((475862.933 4307366.190, 475949.617 4...  \n",
       "4  POLYGON ((586528.338 4376914.774, 586552.532 4...  "
      ]
     },
     "execution_count": 52,
     "metadata": {},
     "output_type": "execute_result"
    }
   ],
   "source": [
    "send.head()"
   ]
  },
  {
   "cell_type": "code",
   "execution_count": 53,
   "metadata": {},
   "outputs": [
    {
     "name": "stderr",
     "output_type": "stream",
     "text": [
      "100%|██████████████████████████████████████████| 17/17 [00:00<00:00, 121.08it/s]\n",
      "100%|██████████████████████████████████████████| 17/17 [00:00<00:00, 282.20it/s]\n",
      "100%|███████████████████████████████████████████| 17/17 [00:00<00:00, 21.88it/s]\n"
     ]
    }
   ],
   "source": [
    "election_df = add_district(send, \"SEND\", election_df, \"DISTRICT\")"
   ]
  },
  {
   "cell_type": "code",
   "execution_count": 55,
   "metadata": {},
   "outputs": [
    {
     "data": {
      "text/html": [
       "<div>\n",
       "<style scoped>\n",
       "    .dataframe tbody tr th:only-of-type {\n",
       "        vertical-align: middle;\n",
       "    }\n",
       "\n",
       "    .dataframe tbody tr th {\n",
       "        vertical-align: top;\n",
       "    }\n",
       "\n",
       "    .dataframe thead th {\n",
       "        text-align: right;\n",
       "    }\n",
       "</style>\n",
       "<table border=\"1\" class=\"dataframe\">\n",
       "  <thead>\n",
       "    <tr style=\"text-align: right;\">\n",
       "      <th></th>\n",
       "      <th>ID</th>\n",
       "      <th>AREA</th>\n",
       "      <th>DISTRICT</th>\n",
       "      <th>MEMBERS</th>\n",
       "      <th>LOCKED</th>\n",
       "      <th>NAME</th>\n",
       "      <th>POPULATION</th>\n",
       "      <th>WHITE</th>\n",
       "      <th>AP_BLK</th>\n",
       "      <th>AP_IND</th>\n",
       "      <th>...</th>\n",
       "      <th>F_AP_BLK</th>\n",
       "      <th>F_AP_IND</th>\n",
       "      <th>F_AP_ASN</th>\n",
       "      <th>F_AP_HWN</th>\n",
       "      <th>F_AP_OTH</th>\n",
       "      <th>F_2_RACES</th>\n",
       "      <th>F_HISPANIC</th>\n",
       "      <th>F_18_POP</th>\n",
       "      <th>DISTRICT_L</th>\n",
       "      <th>geometry</th>\n",
       "    </tr>\n",
       "  </thead>\n",
       "  <tbody>\n",
       "    <tr>\n",
       "      <th>0</th>\n",
       "      <td>1</td>\n",
       "      <td>87.084351</td>\n",
       "      <td>1</td>\n",
       "      <td>1.0</td>\n",
       "      <td>None</td>\n",
       "      <td>None</td>\n",
       "      <td>18807</td>\n",
       "      <td>17676</td>\n",
       "      <td>274</td>\n",
       "      <td>304</td>\n",
       "      <td>...</td>\n",
       "      <td>0.014569</td>\n",
       "      <td>0.016164</td>\n",
       "      <td>0.007550</td>\n",
       "      <td>0.000904</td>\n",
       "      <td>0.022970</td>\n",
       "      <td>0.043388</td>\n",
       "      <td>0.012389</td>\n",
       "      <td>0.821503</td>\n",
       "      <td>1|4.85%</td>\n",
       "      <td>POLYGON ((538594.478 4473582.700, 538586.711 4...</td>\n",
       "    </tr>\n",
       "    <tr>\n",
       "      <th>1</th>\n",
       "      <td>2</td>\n",
       "      <td>146.055542</td>\n",
       "      <td>10</td>\n",
       "      <td>1.0</td>\n",
       "      <td>None</td>\n",
       "      <td>None</td>\n",
       "      <td>17073</td>\n",
       "      <td>16007</td>\n",
       "      <td>289</td>\n",
       "      <td>429</td>\n",
       "      <td>...</td>\n",
       "      <td>0.016927</td>\n",
       "      <td>0.025127</td>\n",
       "      <td>0.007907</td>\n",
       "      <td>0.000996</td>\n",
       "      <td>0.014292</td>\n",
       "      <td>0.044866</td>\n",
       "      <td>0.010192</td>\n",
       "      <td>0.791601</td>\n",
       "      <td>10|-4.82%</td>\n",
       "      <td>POLYGON ((454070.971 4350512.187, 454069.228 4...</td>\n",
       "    </tr>\n",
       "    <tr>\n",
       "      <th>2</th>\n",
       "      <td>3</td>\n",
       "      <td>64.211067</td>\n",
       "      <td>100</td>\n",
       "      <td>1.0</td>\n",
       "      <td>None</td>\n",
       "      <td>None</td>\n",
       "      <td>17621</td>\n",
       "      <td>15239</td>\n",
       "      <td>944</td>\n",
       "      <td>418</td>\n",
       "      <td>...</td>\n",
       "      <td>0.053572</td>\n",
       "      <td>0.023722</td>\n",
       "      <td>0.018557</td>\n",
       "      <td>0.001589</td>\n",
       "      <td>0.043641</td>\n",
       "      <td>0.069463</td>\n",
       "      <td>0.045400</td>\n",
       "      <td>0.804495</td>\n",
       "      <td>100|-1.76%</td>\n",
       "      <td>POLYGON ((775177.554 4370061.457, 775179.398 4...</td>\n",
       "    </tr>\n",
       "    <tr>\n",
       "      <th>3</th>\n",
       "      <td>4</td>\n",
       "      <td>8.987903</td>\n",
       "      <td>11</td>\n",
       "      <td>1.0</td>\n",
       "      <td>None</td>\n",
       "      <td>None</td>\n",
       "      <td>17145</td>\n",
       "      <td>15580</td>\n",
       "      <td>486</td>\n",
       "      <td>384</td>\n",
       "      <td>...</td>\n",
       "      <td>0.028346</td>\n",
       "      <td>0.022397</td>\n",
       "      <td>0.022980</td>\n",
       "      <td>0.000758</td>\n",
       "      <td>0.020589</td>\n",
       "      <td>0.051677</td>\n",
       "      <td>0.017964</td>\n",
       "      <td>0.810440</td>\n",
       "      <td>11|-4.42%</td>\n",
       "      <td>POLYGON ((451274.474 4349541.083, 451293.941 4...</td>\n",
       "    </tr>\n",
       "    <tr>\n",
       "      <th>4</th>\n",
       "      <td>5</td>\n",
       "      <td>14.631539</td>\n",
       "      <td>12</td>\n",
       "      <td>1.0</td>\n",
       "      <td>None</td>\n",
       "      <td>None</td>\n",
       "      <td>17129</td>\n",
       "      <td>15305</td>\n",
       "      <td>820</td>\n",
       "      <td>513</td>\n",
       "      <td>...</td>\n",
       "      <td>0.047872</td>\n",
       "      <td>0.029949</td>\n",
       "      <td>0.008582</td>\n",
       "      <td>0.001226</td>\n",
       "      <td>0.024053</td>\n",
       "      <td>0.065561</td>\n",
       "      <td>0.019499</td>\n",
       "      <td>0.793099</td>\n",
       "      <td>12|-4.5%</td>\n",
       "      <td>POLYGON ((456375.406 4348967.750, 456386.713 4...</td>\n",
       "    </tr>\n",
       "  </tbody>\n",
       "</table>\n",
       "<p>5 rows × 30 columns</p>\n",
       "</div>"
      ],
      "text/plain": [
       "   ID        AREA DISTRICT  MEMBERS LOCKED  NAME  POPULATION  WHITE  AP_BLK  \\\n",
       "0   1   87.084351        1      1.0   None  None       18807  17676     274   \n",
       "1   2  146.055542       10      1.0   None  None       17073  16007     289   \n",
       "2   3   64.211067      100      1.0   None  None       17621  15239     944   \n",
       "3   4    8.987903       11      1.0   None  None       17145  15580     486   \n",
       "4   5   14.631539       12      1.0   None  None       17129  15305     820   \n",
       "\n",
       "   AP_IND  ...  F_AP_BLK  F_AP_IND  F_AP_ASN  F_AP_HWN  F_AP_OTH  F_2_RACES  \\\n",
       "0     304  ...  0.014569  0.016164  0.007550  0.000904  0.022970   0.043388   \n",
       "1     429  ...  0.016927  0.025127  0.007907  0.000996  0.014292   0.044866   \n",
       "2     418  ...  0.053572  0.023722  0.018557  0.001589  0.043641   0.069463   \n",
       "3     384  ...  0.028346  0.022397  0.022980  0.000758  0.020589   0.051677   \n",
       "4     513  ...  0.047872  0.029949  0.008582  0.001226  0.024053   0.065561   \n",
       "\n",
       "   F_HISPANIC  F_18_POP  DISTRICT_L  \\\n",
       "0    0.012389  0.821503     1|4.85%   \n",
       "1    0.010192  0.791601   10|-4.82%   \n",
       "2    0.045400  0.804495  100|-1.76%   \n",
       "3    0.017964  0.810440   11|-4.42%   \n",
       "4    0.019499  0.793099    12|-4.5%   \n",
       "\n",
       "                                            geometry  \n",
       "0  POLYGON ((538594.478 4473582.700, 538586.711 4...  \n",
       "1  POLYGON ((454070.971 4350512.187, 454069.228 4...  \n",
       "2  POLYGON ((775177.554 4370061.457, 775179.398 4...  \n",
       "3  POLYGON ((451274.474 4349541.083, 451293.941 4...  \n",
       "4  POLYGON ((456375.406 4348967.750, 456386.713 4...  \n",
       "\n",
       "[5 rows x 30 columns]"
      ]
     },
     "execution_count": 55,
     "metadata": {},
     "output_type": "execute_result"
    }
   ],
   "source": [
    "hdist.head()"
   ]
  },
  {
   "cell_type": "code",
   "execution_count": 57,
   "metadata": {},
   "outputs": [
    {
     "name": "stderr",
     "output_type": "stream",
     "text": [
      "100%|████████████████████████████████████████| 100/100 [00:00<00:00, 233.05it/s]\n",
      "100%|███████████████████████████████████████| 100/100 [00:00<00:00, 1104.87it/s]\n",
      "100%|█████████████████████████████████████████| 100/100 [00:01<00:00, 71.96it/s]\n"
     ]
    }
   ],
   "source": [
    "election_df = add_district(hdist, \"HDIST\", election_df, \"DISTRICT\")"
   ]
  },
  {
   "cell_type": "code",
   "execution_count": 58,
   "metadata": {},
   "outputs": [
    {
     "data": {
      "text/plain": [
       "Index(['2MOREVAP', 'AGR16D', 'AGR16O', 'AGR16R', 'AGR20D', 'AGR20R', 'AMINVAP',\n",
       "       'ASIANVAP', 'ATG16D', 'ATG16O', 'ATG16R', 'ATG20D', 'ATG20R', 'AUD16D',\n",
       "       'AUD16O', 'AUD16R', 'AUD20D', 'AUD20R', 'BVAP', 'COUNTYFP', 'GOV16D',\n",
       "       'GOV16O', 'GOV16R', 'GOV20D', 'GOV20O', 'GOV20R', 'HISP', 'HVAP',\n",
       "       'H_2MORE', 'H_AMIN', 'H_ASIAN', 'H_BLACK', 'H_NHPI', 'H_OTHER',\n",
       "       'H_WHITE', 'NAME', 'NAMELSAD', 'NHPIVAP', 'NH_2MORE', 'NH_AMIN',\n",
       "       'NH_ASIAN', 'NH_BLACK', 'NH_NHPI', 'NH_OTHER', 'NH_WHITE', 'OTHERVAP',\n",
       "       'PRE16D', 'PRE16O', 'PRE16R', 'PRE20D', 'PRE20O', 'PRE20R', 'SOS16D',\n",
       "       'SOS16O', 'SOS16R', 'SOS20D', 'SOS20R', 'STATEFP', 'TOTPOP', 'TRE16D',\n",
       "       'TRE16O', 'TRE16R', 'TRE20D', 'TRE20R', 'USS18D', 'USS18O', 'USS18R',\n",
       "       'USS20D', 'USS20O', 'USS20R', 'VAP', 'VTDST', 'WVAP', 'geometry', 'CD',\n",
       "       'SEND', 'HDIST'],\n",
       "      dtype='object')"
      ]
     },
     "execution_count": 58,
     "metadata": {},
     "output_type": "execute_result"
    }
   ],
   "source": [
    "election_df.columns"
   ]
  },
  {
   "cell_type": "code",
   "execution_count": 59,
   "metadata": {},
   "outputs": [
    {
     "name": "stderr",
     "output_type": "stream",
     "text": [
      "100%|██████████████████████████████████████| 1671/1671 [00:02<00:00, 731.97it/s]\n"
     ]
    },
    {
     "data": {
      "text/plain": [
       "True"
      ]
     },
     "execution_count": 59,
     "metadata": {},
     "output_type": "execute_result"
    }
   ],
   "source": [
    "maup.doctor(election_df)"
   ]
  },
  {
   "cell_type": "markdown",
   "metadata": {},
   "source": [
    "### Put the base precinct year after the precinct information column"
   ]
  },
  {
   "cell_type": "code",
   "execution_count": 61,
   "metadata": {},
   "outputs": [],
   "source": [
    "base_columns = {}\n",
    "if 'COUNTYFP' + year not in election_df.columns:\n",
    "    base_columns = {\n",
    "        'STATEFP':'STATEFP'+year,\n",
    "        'COUNTYFP':'COUNTYFP'+year,\n",
    "        'VTDST':'VTDST'+year,\n",
    "        'NAME':'NAME'+year,\n",
    "        'NAMELSAD':'NAMELSAD'+year}\n",
    "election_df.rename(columns=base_columns, inplace = True)"
   ]
  },
  {
   "cell_type": "code",
   "execution_count": 62,
   "metadata": {},
   "outputs": [
    {
     "data": {
      "text/plain": [
       "Index(['2MOREVAP', 'AGR16D', 'AGR16O', 'AGR16R', 'AGR20D', 'AGR20R', 'AMINVAP',\n",
       "       'ASIANVAP', 'ATG16D', 'ATG16O', 'ATG16R', 'ATG20D', 'ATG20R', 'AUD16D',\n",
       "       'AUD16O', 'AUD16R', 'AUD20D', 'AUD20R', 'BVAP', 'COUNTYFP20', 'GOV16D',\n",
       "       'GOV16O', 'GOV16R', 'GOV20D', 'GOV20O', 'GOV20R', 'HISP', 'HVAP',\n",
       "       'H_2MORE', 'H_AMIN', 'H_ASIAN', 'H_BLACK', 'H_NHPI', 'H_OTHER',\n",
       "       'H_WHITE', 'NAME20', 'NAMELSAD20', 'NHPIVAP', 'NH_2MORE', 'NH_AMIN',\n",
       "       'NH_ASIAN', 'NH_BLACK', 'NH_NHPI', 'NH_OTHER', 'NH_WHITE', 'OTHERVAP',\n",
       "       'PRE16D', 'PRE16O', 'PRE16R', 'PRE20D', 'PRE20O', 'PRE20R', 'SOS16D',\n",
       "       'SOS16O', 'SOS16R', 'SOS20D', 'SOS20R', 'STATEFP20', 'TOTPOP', 'TRE16D',\n",
       "       'TRE16O', 'TRE16R', 'TRE20D', 'TRE20R', 'USS18D', 'USS18O', 'USS18R',\n",
       "       'USS20D', 'USS20O', 'USS20R', 'VAP', 'VTDST20', 'WVAP', 'geometry',\n",
       "       'CD', 'SEND', 'HDIST'],\n",
       "      dtype='object')"
      ]
     },
     "execution_count": 62,
     "metadata": {},
     "output_type": "execute_result"
    }
   ],
   "source": [
    "election_df.columns"
   ]
  },
  {
   "cell_type": "code",
   "execution_count": 65,
   "metadata": {},
   "outputs": [],
   "source": [
    "# reorder the columns\n",
    "fixed_columns = [\n",
    "    'STATEFP'+year,\n",
    "    'COUNTYFP'+year,\n",
    "    'VTDST'+year,\n",
    "    'NAME'+year,\n",
    "    'NAMELSAD'+year,\n",
    "    'CD',\n",
    "    'SEND',\n",
    "    'HDIST',\n",
    "    'TOTPOP',\n",
    "    'NH_2MORE',\n",
    "    'NH_AMIN',\n",
    "    'NH_ASIAN',\n",
    "    'NH_BLACK',\n",
    "    'NH_NHPI',\n",
    "    'NH_OTHER',\n",
    "    'NH_WHITE',\n",
    "    'HISP',\n",
    "    'H_AMIN',\n",
    "    'H_ASIAN',\n",
    "    'H_BLACK',\n",
    "    'H_NHPI',\n",
    "    'H_OTHER',\n",
    "    'H_WHITE',\n",
    "    'H_2MORE',\n",
    "    'VAP',\n",
    "    'HVAP',\n",
    "    'WVAP',\n",
    "    'BVAP',\n",
    "    'AMINVAP',\n",
    "    'ASIANVAP',\n",
    "    'NHPIVAP',\n",
    "    'OTHERVAP',\n",
    "    '2MOREVAP']\n",
    "\n",
    "election_columns = [col for col in election_df.columns if col not in fixed_columns]\n",
    "final_col = fixed_columns + election_columns\n",
    "election_df = election_df[final_col]"
   ]
  },
  {
   "cell_type": "code",
   "execution_count": 66,
   "metadata": {},
   "outputs": [],
   "source": [
    "import os\n",
    "\n",
    "# store the result in directory \"il\"\n",
    "directory = \"./{}\".format(state_ab)\n",
    "if not os.path.exists(directory):\n",
    "    os.makedirs(directory)\n",
    "\n",
    "shapefile_path = \"./{}/{}.shp\".format(state_ab, state_ab)\n",
    "geojson_path = './{}/{}.geojson'.format(state_ab, state_ab)\n",
    "json_path = \"./{}.json\".format(state_ab, state_ab)\n",
    "\n",
    "# Check if the shapefile or geojson file already exists\n",
    "if os.path.exists(shapefile_path):\n",
    "    os.remove(shapefile_path)\n",
    "if os.path.exists(geojson_path):\n",
    "    os.remove(geojson_path)\n",
    "\n",
    "election_df.to_file(shapefile_path)\n",
    "election_df.to_file(geojson_path, driver='GeoJSON')\n",
    "\n",
    "# Only do once to build json and read from file when generating ensembles\n",
    "graph = Graph.from_file(shapefile_path, ignore_errors=True)\n",
    "graph.to_json(json_path)"
   ]
  },
  {
   "cell_type": "code",
   "execution_count": 67,
   "metadata": {},
   "outputs": [
    {
     "data": {
      "text/plain": [
       "<Axes: >"
      ]
     },
     "execution_count": 67,
     "metadata": {},
     "output_type": "execute_result"
    },
    {
     "data": {
      "image/png": "[encoded data removed]",
      "text/plain": [
       "<Figure size 640x480 with 1 Axes>"
      ]
     },
     "metadata": {},
     "output_type": "display_data"
    }
   ],
   "source": [
    "shapefile_path = \"./{}/{}.shp\".format(state_ab, state_ab)\n",
    "shape=gpd.read_file(shapefile_path)\n",
    "shape.plot()"
   ]
  },
  {
   "cell_type": "code",
   "execution_count": null,
   "metadata": {},
   "outputs": [],
   "source": []
  }
 ],
 "metadata": {
  "kernelspec": {
   "display_name": "gerry",
   "language": "python",
   "name": "gerry"
  },
  "language_info": {
   "codemirror_mode": {
    "name": "ipython",
    "version": 3
   },
   "file_extension": ".py",
   "mimetype": "text/x-python",
   "name": "python",
   "nbconvert_exporter": "python",
   "pygments_lexer": "ipython3",
   "version": "3.11.4"
  }
 },
 "nbformat": 4,
 "nbformat_minor": 4
}
